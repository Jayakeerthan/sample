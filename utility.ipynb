{
 "cells": [
  {
   "cell_type": "code",
   "execution_count": 1,
   "metadata": {},
   "outputs": [],
   "source": [
    "from typing import TextIO"
   ]
  },
  {
   "cell_type": "code",
   "execution_count": 2,
   "metadata": {},
   "outputs": [],
   "source": [
    "import pandas as pd"
   ]
  },
  {
   "cell_type": "code",
   "execution_count": 3,
   "metadata": {},
   "outputs": [],
   "source": [
    "from langchain_experimental.agents import create_csv_agent, create_pandas_dataframe_agent\n",
    "from langchain.llms import Ollama\n",
    "from langchain.callbacks.manager import CallbackManager\n",
    "from langchain.callbacks.streaming_stdout import StreamingStdOutCallbackHandler "
   ]
  },
  {
   "cell_type": "code",
   "execution_count": 4,
   "metadata": {},
   "outputs": [
    {
     "data": {
      "text/plain": [
       "Ollama(base_url='http://172.17.226.116:11434', model='orca-mini:3b', repeat_last_n=64, repeat_penalty=1.1, temperature=0.8, tfs_z=1.0, top_k=40, top_p=0, callbacks=<langchain_core.callbacks.manager.CallbackManager object at 0x000001A96782A250>)"
      ]
     },
     "execution_count": 4,
     "metadata": {},
     "output_type": "execute_result"
    }
   ],
   "source": [
    "Ollama(base_url='http://172.17.226.116:11434',\n",
    "model=\"orca-mini:3b\",temperature=0.8,top_k=40,top_p=0.9,repeat_penalty=1.1,repeat_last_n=64,tfs_z=1,\n",
    "callback_manager = CallbackManager([StreamingStdOutCallbackHandler()]))"
   ]
  },
  {
   "cell_type": "code",
   "execution_count": 5,
   "metadata": {},
   "outputs": [],
   "source": [
    "def get_answer_csv(file: TextIO, query: str) -> str:\n",
    "    \"\"\"\n",
    "    Returns the answer to the given query by querying a CSV file.\n",
    "\n",
    "    Args:\n",
    "    - file (str): the file path to the CSV file to query.\n",
    "    - query (str): the question to ask the agent.\n",
    "\n",
    "    Returns:\n",
    "    - answer (str): the answer to the query from the CSV file.\n",
    "    \"\"\"\n",
    "\n",
    "\n",
    "    \n",
    "    agent = create_csv_agent(Ollama(temperature=0), file, verbose=False)\n",
    "\n",
    "    answer = agent.run(query)\n",
    "    return answer"
   ]
  }
 ],
 "metadata": {
  "kernelspec": {
   "display_name": "Python 3.11.7 64-bit",
   "language": "python",
   "name": "python3"
  },
  "language_info": {
   "codemirror_mode": {
    "name": "ipython",
    "version": 3
   },
   "file_extension": ".py",
   "mimetype": "text/x-python",
   "name": "python",
   "nbconvert_exporter": "python",
   "pygments_lexer": "ipython3",
   "version": "3.11.7"
  },
  "orig_nbformat": 4,
  "vscode": {
   "interpreter": {
    "hash": "ebb1fce3030b29fe830cafe852b75508e70531fc9b401eda00fee2518c8f9105"
   }
  }
 },
 "nbformat": 4,
 "nbformat_minor": 2
}
