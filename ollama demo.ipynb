{
 "cells": [
  {
   "cell_type": "code",
   "execution_count": 2,
   "metadata": {},
   "outputs": [],
   "source": [
    "from langchain.llms import Ollama\n"
   ]
  },
  {
   "cell_type": "code",
   "execution_count": 3,
   "metadata": {},
   "outputs": [],
   "source": [
    "ollama = Ollama(base_url='http://172.17.226.116:11434',\n",
    "model=\"orca-mini:3b\")\n"
   ]
  },
  {
   "cell_type": "code",
   "execution_count": 4,
   "metadata": {},
   "outputs": [
    {
     "name": "stdout",
     "output_type": "stream",
     "text": [
      " Nikola Tesla was a Serbian-American inventor, electrical engineer, mechanical engineer, and futurist who is best known for his contributions to the design of the modern alternating current (AC) electricity supply system. He also made significant advances in the fields of physics, geology, and astronomy. Tesla was born on July 10, 1856, in Smiljan, Croatia, which was then part of the Austro-Hungarian Empire. In later years, he became known as a brilliant but reclusive inventor who was often in conflict with his business partners. Tesla died on January 7, 1943, at the age of 87 in room 3326 of the New York World Building.\n"
     ]
    }
   ],
   "source": [
    "print(ollama(\"who is nikola tesla\"))"
   ]
  },
  {
   "cell_type": "code",
   "execution_count": 5,
   "metadata": {},
   "outputs": [],
   "source": [
    "from langchain.callbacks.manager import CallbackManager\n",
    "from langchain.callbacks.streaming_stdout import StreamingStdOutCallbackHandler                                  \n"
   ]
  },
  {
   "cell_type": "code",
   "execution_count": 42,
   "metadata": {},
   "outputs": [],
   "source": [
    "llm = Ollama(base_url='http://172.17.226.116:11434',\n",
    "model=\"orca-mini:3b\",temperature=115,\n",
    "callback_manager = CallbackManager([StreamingStdOutCallbackHandler()]))"
   ]
  },
  {
   "cell_type": "code",
   "execution_count": 7,
   "metadata": {},
   "outputs": [
    {
     "name": "stdout",
     "output_type": "stream",
     "text": [
      " Sure, here are the states of India in a formatted manner:\n",
      "\n",
      "North India: \n",
      "- Uttarakhand\n",
      "- Delhi \n",
      "- Haryana \n",
      "- Punjab \n",
      "- Himachal Pradesh \n",
      "\n",
      "South India:\n",
      "- Andhra Pradesh \n",
      "- Telangana \n",
      "- Tamil Nadu \n",
      "- Kerala \n",
      "\n",
      "East India:\n",
      "- Assam \n",
      "- West Bengal \n",
      "- Meghalaya \n",
      "- Sikkim \n",
      "- Mizoram"
     ]
    },
    {
     "data": {
      "text/plain": [
       "' Sure, here are the states of India in a formatted manner:\\n\\nNorth India: \\n- Uttarakhand\\n- Delhi \\n- Haryana \\n- Punjab \\n- Himachal Pradesh \\n\\nSouth India:\\n- Andhra Pradesh \\n- Telangana \\n- Tamil Nadu \\n- Kerala \\n\\nEast India:\\n- Assam \\n- West Bengal \\n- Meghalaya \\n- Sikkim \\n- Mizoram'"
      ]
     },
     "execution_count": 7,
     "metadata": {},
     "output_type": "execute_result"
    }
   ],
   "source": [
    "# zero shot prompt\n",
    "llm(\"List the states of india in a formatted manner\")"
   ]
  },
  {
   "cell_type": "code",
   "execution_count": 44,
   "metadata": {},
   "outputs": [
    {
     "name": "stdout",
     "output_type": "stream",
     "text": [
      " Here are the shortcut keys for copying the entire vector or color of the field in Blender: \n",
      "\n",
      "1. Ctrl-C - Double-click on the target object, select the entire vector or color, then copy. \n",
      "2. Ctrl-V - Press and hold down the shift key while clicking the target object, then drag the selected cursor over other objects until they are selected as well, then release. \n",
      "3. Ctrl-Alt-C - Select the entire vector or color, then click anywhere on the interface. \n",
      "4. Ctrl-Alt-V - Double-click on the target object, then drag and drop the entire cursor over other objects until they are selected as well. \n",
      "5. Backspace - Delete the previous frame (in an animation, if it was created by an animator). \n",
      "6. Minus - Multiply by -1.0, it can be useful when changing the amount of the parameter. \n",
      "7. I - Insert a new keyframe (in an animation). \n",
      "8. Alt-I - Clear the current keyframe (for animation tracks with specific instructions or transitions between keyframes). \n",
      "9. Ctrl-D - Save the edited scene or script as a file. \n",
      "10. Ctrl-Alt-D - Save the selected group, object, or attribute as a separate Blender object or feature (in case you need it later for creating something else)."
     ]
    },
    {
     "data": {
      "text/plain": [
       "' Here are the shortcut keys for copying the entire vector or color of the field in Blender: \\n\\n1. Ctrl-C - Double-click on the target object, select the entire vector or color, then copy. \\n2. Ctrl-V - Press and hold down the shift key while clicking the target object, then drag the selected cursor over other objects until they are selected as well, then release. \\n3. Ctrl-Alt-C - Select the entire vector or color, then click anywhere on the interface. \\n4. Ctrl-Alt-V - Double-click on the target object, then drag and drop the entire cursor over other objects until they are selected as well. \\n5. Backspace - Delete the previous frame (in an animation, if it was created by an animator). \\n6. Minus - Multiply by -1.0, it can be useful when changing the amount of the parameter. \\n7. I - Insert a new keyframe (in an animation). \\n8. Alt-I - Clear the current keyframe (for animation tracks with specific instructions or transitions between keyframes). \\n9. Ctrl-D - Save the edited scene or script as a file. \\n10. Ctrl-Alt-D - Save the selected group, object, or attribute as a separate Blender object or feature (in case you need it later for creating something else).'"
      ]
     },
     "execution_count": 44,
     "metadata": {},
     "output_type": "execute_result"
    }
   ],
   "source": [
    "#testing 1(few shot prompt)\n",
    "llm(\"\"\"You are a 3d model expert. examples for blender shortcuts are given  \n",
    "\n",
    "        These are the blender shortcuts for various different operations\\\n",
    "\n",
    "        1. Ctrl-C -Copy the (single) value of the button.\\\n",
    "        2. Ctrl-V - Paste the (single) value of the button.\\\n",
    "        3. Ctrl-Alt-C - Copy the entire vector or color of the field.\\\n",
    "        4. Ctrl-Alt-V - Paste the entire vector or color of the button.\\\n",
    "        5. Backspace - Clear the value (sets to zero or clears a text field).\\\n",
    "        6. Minus - Negate number values (multiply by -1.0).\\\n",
    "        7. I - Insert a keyframe.\\\n",
    "        8. Alt-I - Clear the keyframe.\\\n",
    "        9. Ctrl-D - Assign a driver.\\\n",
    "        10.Ctrl-Alt-D - Clear the driver.\\\n",
    "                \n",
    "        <provide me the shortcut key for copying the entire vector or color of the field>\n",
    "                \n",
    "\"\"\"\n",
    "   )"
   ]
  },
  {
   "cell_type": "code",
   "execution_count": 41,
   "metadata": {},
   "outputs": [
    {
     "name": "stdout",
     "output_type": "stream",
     "text": [
      " To clear the keyframe in Blender, you can use the shortcut key \"Backspace\"."
     ]
    },
    {
     "data": {
      "text/plain": [
       "' To clear the keyframe in Blender, you can use the shortcut key \"Backspace\".'"
      ]
     },
     "execution_count": 41,
     "metadata": {},
     "output_type": "execute_result"
    }
   ],
   "source": [
    "#testing 2\n",
    "llm(\"\"\"You are a 3d model expert. examples for blender shortcuts are given  \n",
    "\n",
    "        These are the blender shortcuts for various different operations\n",
    "\n",
    "        1. I - Insert a keyframe.\n",
    "        2.A - select all\n",
    "        3.A-G - Grab the whole model\n",
    "        4.U - smart uv editing\n",
    "        5.K - adding a keyset\n",
    "        6.Alt-K - Clearing a keyset\n",
    "        7.Ctrl-C -Copy the (single) value of the button.\n",
    "        8.Ctrl-V - Paste the (single) value of the button.\n",
    "        9.Ctrl-Alt-C - Copy the entire vector or color of the field.\n",
    "        10.Ctrl-Alt-V - Paste the entire vector or color of the button.\n",
    "        11.Alt-I - Clear the keyframe.\n",
    "        12.Ctrl-D - Assign a driver.\n",
    "        13.Ctrl-Alt-D - Clear the driver.\n",
    "        14.Backspace - Clear the value (sets to zero or clears a text field).\n",
    "        \n",
    "        provide me the shortcut key clearing the keyframe \n",
    "        \n",
    "                \n",
    "\"\"\"\n",
    "   )"
   ]
  },
  {
   "cell_type": "code",
   "execution_count": 10,
   "metadata": {},
   "outputs": [
    {
     "name": "stdout",
     "output_type": "stream",
     "text": [
      " Here is the shortcut key for clearing the driver using the given blender shortcuts:\n",
      "\n",
      "Ctrl + A + D - Clear the driver (sets to zero or clears a text field)"
     ]
    },
    {
     "data": {
      "text/plain": [
       "' Here is the shortcut key for clearing the driver using the given blender shortcuts:\\n\\nCtrl + A + D - Clear the driver (sets to zero or clears a text field)'"
      ]
     },
     "execution_count": 10,
     "metadata": {},
     "output_type": "execute_result"
    }
   ],
   "source": [
    "#testing3\n",
    "llm(\"\"\"You are a 3d model expert. examples for blender shortcuts are given  \n",
    "\n",
    "        These are the blender shortcuts for various different operations\n",
    "\n",
    "        1. I - Insert a keyframe.\n",
    "        2.A - select all\n",
    "        3.A-G - Grab the whole model\n",
    "        4.U - smart uv editing\n",
    "        5.K - adding a keyset\n",
    "        6.Alt-K - Clearing a keyset\n",
    "        7.Ctrl-C -Copy the (single) value of the button.\n",
    "        8.Ctrl-V - Paste the (single) value of the button.\n",
    "        9.Ctrl-Alt-C - Copy the entire vector or color of the field.\n",
    "        10.Ctrl-Alt-V - Paste the entire vector or color of the button.\n",
    "        11.Alt-I - Clear the keyframe.\n",
    "        12.Ctrl-D - Assign a driver.\n",
    "        13.Ctrl-Alt-D - Clear the driver.\n",
    "        14.Backspace - Clear the value (sets to zero or clears a text field).\n",
    "\n",
    "        provide me the shortcut key for clearing the driver using the above given\n",
    "        \n",
    "        \n",
    "                \n",
    "\"\"\"\n",
    "   )"
   ]
  },
  {
   "cell_type": "code",
   "execution_count": 11,
   "metadata": {},
   "outputs": [
    {
     "name": "stdout",
     "output_type": "stream",
     "text": [
      " Here is the JSON formatted list of shortcuts in a structured manner:\n",
      "\n",
      "```\n",
      "{\n",
      " \"shortcut-key\": \"InsertionKey, Selection\",\n",
      " \"shortcut-keys\": [\n",
      " \"I - Insert a Keyframe\",\n",
      " \"A - Select All\",\n",
      " \"A-G - Grabs the Whole Model\",\n",
      " \"U - Smart UV Editing\",\n",
      " \"K - Adding a Keyset\",\n",
      " \"Alt-K - Clearing a Keyset\",\n",
      " \"Ctrl-C - Copy the Single Value of the Button\",\n",
      " \"Ctrl-V - Paste the Single Value of the Button\",\n",
      " \"Ctrl-Alt-C - Copy the Entire Vector or Color of the Field\",\n",
      " \"Ctrl-Alt-V - Paste the Entire Vector or Color of the Button\",\n",
      " \"Alt-I - Clear the Keyframe\",\n",
      " \"Ctrl-D - Assign a Driver\"\n",
      " ],\n",
      " \"shortcut-keys-for\": [\"UV Editor\"],\n",
      " \"driver-default\": {\n",
      " \"description\": \"The driver set to the default value when no other driver is specified.\",\n",
      " \"default_value\": 0\n",
      " }\n",
      "}\n",
      "```"
     ]
    },
    {
     "data": {
      "text/plain": [
       "' Here is the JSON formatted list of shortcuts in a structured manner:\\n\\n```\\n{\\n \"shortcut-key\": \"InsertionKey, Selection\",\\n \"shortcut-keys\": [\\n \"I - Insert a Keyframe\",\\n \"A - Select All\",\\n \"A-G - Grabs the Whole Model\",\\n \"U - Smart UV Editing\",\\n \"K - Adding a Keyset\",\\n \"Alt-K - Clearing a Keyset\",\\n \"Ctrl-C - Copy the Single Value of the Button\",\\n \"Ctrl-V - Paste the Single Value of the Button\",\\n \"Ctrl-Alt-C - Copy the Entire Vector or Color of the Field\",\\n \"Ctrl-Alt-V - Paste the Entire Vector or Color of the Button\",\\n \"Alt-I - Clear the Keyframe\",\\n \"Ctrl-D - Assign a Driver\"\\n ],\\n \"shortcut-keys-for\": [\"UV Editor\"],\\n \"driver-default\": {\\n \"description\": \"The driver set to the default value when no other driver is specified.\",\\n \"default_value\": 0\\n }\\n}\\n```'"
      ]
     },
     "execution_count": 11,
     "metadata": {},
     "output_type": "execute_result"
    }
   ],
   "source": [
    "#Formatted the given list of shortcuts keys in json format\n",
    "llm(\"\"\"You are a 3d designing expert making the documentation for blender 3d-modelling\n",
    "        below given are the json format\n",
    "        {\n",
    "                \"shortcut-key\":\"Function/operation\"\n",
    "        }\n",
    "        this is  list of blender shortcutkeys:\n",
    "        \n",
    "        \n",
    "        \n",
    "        1. I - Insert a keyframe.\n",
    "        2.A - select all\n",
    "        3.A-G - Grab the whole model\n",
    "        4.U - smart uv editing\n",
    "        5.K - adding a keyset\n",
    "        6.Alt-K - Clearing a keyset\n",
    "        7.Ctrl-C -Copy the (single) value of the button.\n",
    "        8.Ctrl-V - Paste the (single) value of the button.\n",
    "        9.Ctrl-Alt-C - Copy the entire vector or color of the field.\n",
    "        10.Ctrl-Alt-V - Paste the entire vector or color of the button.\n",
    "        11.Alt-I - Clear the keyframe.\n",
    "        12.Ctrl-D - Assign a driver.\n",
    "        13.Ctrl-Alt-D - Clear the driver.\n",
    "        14.Backspace - Clear the value (sets to zero or clears a text field).\n",
    "\n",
    "        Convert the above given list of shortcuts into json formatted list.\n",
    "        Use the above given sample json-format for reference\n",
    "\n",
    "\"\"\")"
   ]
  },
  {
   "cell_type": "code",
   "execution_count": 12,
   "metadata": {},
   "outputs": [
    {
     "name": "stdout",
     "output_type": "stream",
     "text": [
      " The shortcut key for inserting a keyframe by using the above list is \"Ctrl-Alt-I\"."
     ]
    },
    {
     "data": {
      "text/plain": [
       "' The shortcut key for inserting a keyframe by using the above list is \"Ctrl-Alt-I\".'"
      ]
     },
     "execution_count": 12,
     "metadata": {},
     "output_type": "execute_result"
    }
   ],
   "source": [
    "#Added extra shortcuts and got output for a value\n",
    "llm(\"\"\"You are a 3d designing expert making the documentation for blender 3d-modelling\n",
    "       \n",
    "        this is  list of blender shortcutkeys:\n",
    "        1. I - Insert a keyframe.\n",
    "        2.A - select all\n",
    "        3.A-G - Grab the whole model\n",
    "        4.U - smart uv editing\n",
    "        5.K - adding a keyset\n",
    "        6.Alt-K - Clearing a keyset\n",
    "        7.Ctrl-C -Copy the (single) value of the button.\n",
    "        8.Ctrl-V - Paste the (single) value of the button.\n",
    "        9.Ctrl-Alt-C - Copy the entire vector or color of the field.\n",
    "        10.Ctrl-Alt-V - Paste the entire vector or color of the button.\n",
    "        11.Alt-I - Clear the keyframe.\n",
    "        12.Ctrl-D - Assign a driver.\n",
    "        13.Ctrl-Alt-D - Clear the driver.\n",
    "        14.Backspace - Clear the value (sets to zero or clears a text field).\n",
    "\n",
    "        Provide me the shortcut key for inserting the keyframe by using the above list\n",
    "\n",
    "\"\"\")"
   ]
  },
  {
   "cell_type": "code",
   "execution_count": 13,
   "metadata": {},
   "outputs": [
    {
     "name": "stdout",
     "output_type": "stream",
     "text": [
      " The shortcut key for pasting the entire vector or color of a field using the above list is Ctrl + Alt + D, where D refers to the desired vector/color. For example, if you have a field that contains red dots and you want to paste all of its red dots into a separate layer in Blender, you can use the shortcut key combination mentioned above."
     ]
    },
    {
     "data": {
      "text/plain": [
       "' The shortcut key for pasting the entire vector or color of a field using the above list is Ctrl + Alt + D, where D refers to the desired vector/color. For example, if you have a field that contains red dots and you want to paste all of its red dots into a separate layer in Blender, you can use the shortcut key combination mentioned above.'"
      ]
     },
     "execution_count": 13,
     "metadata": {},
     "output_type": "execute_result"
    }
   ],
   "source": [
    "#testing3\n",
    "#with Temperature value=0\n",
    "llm(\"\"\"You are a 3d model expert. examples for blender shortcuts are given  \n",
    "\n",
    "        These are the blender shortcuts for various different operations\n",
    "\n",
    "        1. I - Insert a keyframe.\n",
    "        2.A - select all\n",
    "        3.A-G - Grab the whole model\n",
    "        4.U - smart uv editing\n",
    "        5.K - adding a keyset\n",
    "        6.Alt-K - Clearing a keyset\n",
    "        7.Ctrl-C -Copy the (single) value of the button.\n",
    "        8.Ctrl-V - Paste the (single) value of the button.\n",
    "        9.Ctrl-Alt-C - Copy the entire vector or color of the field.\n",
    "        10.Ctrl-Alt-V - Paste the entire vector or color of the button.\n",
    "        11.Alt-I - Clear the keyframe.\n",
    "        12.Ctrl-D - Assign a driver.\n",
    "        13.Ctrl-Alt-D - Clear the driver.\n",
    "        14.Backspace - Clear the value (sets to zero or clears a text field).\n",
    "\n",
    "        provide me the shortcut key for pasting the entire vector or color of the field using the above list\n",
    "        \n",
    "        \n",
    "                \n",
    "\"\"\"\n",
    "   )"
   ]
  },
  {
   "cell_type": "code",
   "execution_count": 14,
   "metadata": {},
   "outputs": [
    {
     "name": "stdout",
     "output_type": "stream",
     "text": [
      " To past the entire vector or color of a field in blender using the above list, you can use the following shortcut key:\n",
      "Ctrl-Alt-V (CTRL + ALT + V) or Cmd+Option+V (Command + Option + V) on Mac."
     ]
    },
    {
     "data": {
      "text/plain": [
       "' To past the entire vector or color of a field in blender using the above list, you can use the following shortcut key:\\nCtrl-Alt-V (CTRL + ALT + V) or Cmd+Option+V (Command + Option + V) on Mac.'"
      ]
     },
     "execution_count": 14,
     "metadata": {},
     "output_type": "execute_result"
    }
   ],
   "source": [
    "#testing3\n",
    "#with Temperature value>0(115)\n",
    "llm(\"\"\"You are a 3d model expert. examples for blender shortcuts are given  \n",
    "\n",
    "        These are the blender shortcuts for various different operations\n",
    "\n",
    "        1. I - Insert a keyframe.\n",
    "        2.A - select all\n",
    "        3.A-G - Grab the whole model\n",
    "        4.U - smart uv editing\n",
    "        5.K - adding a keyset\n",
    "        6.Alt-K - Clearing a keyset\n",
    "        7.Ctrl-C -Copy the (single) value of the button.\n",
    "        8.Ctrl-V - Paste the (single) value of the button.\n",
    "        9.Ctrl-Alt-C - Copy the entire vector or color of the field.\n",
    "        10.Ctrl-Alt-V - Paste the entire vector or color of the button.\n",
    "        11.Alt-I - Clear the keyframe.\n",
    "        12.Ctrl-D - Assign a driver.\n",
    "        13.Ctrl-Alt-D - Clear the driver.\n",
    "        14.Backspace - Clear the value (sets to zero or clears a text field).\n",
    "\n",
    "        provide me the shortcut key for pasting the entire vector or color of the field using the above list\n",
    "        \n",
    "        \n",
    "                \n",
    "\"\"\"\n",
    "   )"
   ]
  },
  {
   "cell_type": "code",
   "execution_count": 15,
   "metadata": {},
   "outputs": [
    {
     "name": "stdout",
     "output_type": "stream",
     "text": [
      " To insert a keyframe in Blender, you can use the shortcut keys \n",
      "\n",
      "1. I - Insert a keyframe."
     ]
    },
    {
     "data": {
      "text/plain": [
       "' To insert a keyframe in Blender, you can use the shortcut keys \\n\\n1. I - Insert a keyframe.'"
      ]
     },
     "execution_count": 15,
     "metadata": {},
     "output_type": "execute_result"
    }
   ],
   "source": [
    "#testing with two simultaneous questions \n",
    "#with Temperature value=0\n",
    "llm(\"\"\"You are a 3d model expert. examples for blender shortcuts are given  \n",
    "\n",
    "        These are the blender shortcuts for various different operations\n",
    "\n",
    "        1.I - Insert a keyframe.\n",
    "        2.A - select all\n",
    "        3.A-G - Grab the whole model\n",
    "        4.U - smart uv editing\n",
    "        5.K - adding a keyset\n",
    "        6.Alt-K - Clearing a keyset\n",
    "        7.Ctrl-C -Copy the (single) value of the button.\n",
    "        8.Ctrl-V - Paste the (single) value of the button.\n",
    "        9.Ctrl-Alt-C - Copy the entire vector or color of the field.\n",
    "        10.Ctrl-Alt-V - Paste the entire vector or color of the button.\n",
    "        11.Alt-I - Clear the keyframe.\n",
    "        12.Ctrl-D - Assign a driver.\n",
    "        13.Ctrl-Alt-D - Clear the driver.\n",
    "        14.Backspace - Clear the value (sets to zero or clears a text field).\n",
    "\n",
    "        provide me the shortcut key to Insert a keyframe use the data from above list\n",
    "        \n",
    "                \n",
    "\"\"\"\n",
    "   )"
   ]
  },
  {
   "cell_type": "code",
   "execution_count": 16,
   "metadata": {},
   "outputs": [
    {
     "name": "stdout",
     "output_type": "stream",
     "text": [
      " The shortcut key to select all in Blender is A."
     ]
    },
    {
     "data": {
      "text/plain": [
       "' The shortcut key to select all in Blender is A.'"
      ]
     },
     "execution_count": 16,
     "metadata": {},
     "output_type": "execute_result"
    }
   ],
   "source": [
    "#testing with two simultaneous questions \n",
    "#with Temperature value=0\n",
    "llm(\"\"\"You are a 3d model expert. examples for blender shortcuts are given  \n",
    "\n",
    "        These are the blender shortcuts for various different operations\n",
    "\n",
    "        1.I - Insert a keyframe.\n",
    "        2.A - select all\n",
    "        3.A-G - Grab the whole model\n",
    "        4.U - smart uv editing\n",
    "        5.K - adding a keyset\n",
    "        6.Alt-K - Clearing a keyset\n",
    "        7.Ctrl-C -Copy the (single) value of the button.\n",
    "        8.Ctrl-V - Paste the (single) value of the button.\n",
    "        9.Ctrl-Alt-C - Copy the entire vector or color of the field.\n",
    "        10.Ctrl-Alt-V - Paste the entire vector or color of the button.\n",
    "        11.Alt-I - Clear the keyframe.\n",
    "        12.Ctrl-D - Assign a driver.\n",
    "        13.Ctrl-Alt-D - Clear the driver.\n",
    "        14.Backspace - Clear the value (sets to zero or clears a text field).\n",
    "\n",
    "        provide me the shortcut key to select all use the data from above list\n",
    "        \n",
    "        \n",
    "                \n",
    "\"\"\"\n",
    "   )"
   ]
  },
  {
   "cell_type": "code",
   "execution_count": 17,
   "metadata": {},
   "outputs": [
    {
     "name": "stdout",
     "output_type": "stream",
     "text": [
      " To grab the entire model using Blender, you can use the shortcut keys \n",
      "```Alt``` `K`. This will select all the vertices, edges and faces of the object in one go. You can also hold down the \"Shift\" key and press \"K\" to select multiple objects at once."
     ]
    },
    {
     "data": {
      "text/plain": [
       "' To grab the entire model using Blender, you can use the shortcut keys \\n```Alt``` `K`. This will select all the vertices, edges and faces of the object in one go. You can also hold down the \"Shift\" key and press \"K\" to select multiple objects at once.'"
      ]
     },
     "execution_count": 17,
     "metadata": {},
     "output_type": "execute_result"
    }
   ],
   "source": [
    "#testing with two simultaneous questions \n",
    "#with Temperature value=0\n",
    "llm(\"\"\"You are a 3d model expert. examples for blender shortcuts are given  \n",
    "\n",
    "        These are the blender shortcuts for various different operations\n",
    "\n",
    "        1.I - Insert a keyframe.\n",
    "        2.A - select all\n",
    "        3.A-G - Grab the whole model\n",
    "        4.U - smart uv editing\n",
    "        5.K - adding a keyset\n",
    "        6.Alt-K - Clearing a keyset\n",
    "        7.Ctrl-C -Copy the (single) value of the button.\n",
    "        8.Ctrl-V - Paste the (single) value of the button.\n",
    "        9.Ctrl-Alt-C - Copy the entire vector or color of the field.\n",
    "        10.Ctrl-Alt-V - Paste the entire vector or color of the button.\n",
    "        11.Alt-I - Clear the keyframe.\n",
    "        12.Ctrl-D - Assign a driver.\n",
    "        13.Ctrl-Alt-D - Clear the driver.\n",
    "        14.Backspace - Clear the value (sets to zero or clears a text field).\n",
    "\n",
    "        provide me the shortcut key to  Grab the whole model use the data from above list\n",
    "        \n",
    "        \n",
    "                \n",
    "\"\"\"\n",
    "   )"
   ]
  },
  {
   "cell_type": "code",
   "execution_count": 18,
   "metadata": {},
   "outputs": [
    {
     "name": "stdout",
     "output_type": "stream",
     "text": [
      " To use Smart UV editing in Blender, you can press and hold the \"U\" key (⌥) on your keyboard to add a new UV keyplane to the scene. Then, you can either select the object you want to UV map or use the hotkey \"U-R\" to load an existing UVsets file. Finally, you can edit theuv values by pressing the \"Alt+K\" and \"Ctrl+K\" keys on your keyboard or using shortcut key combinations provided below:\n",
      "\n",
      "Option Key + Ctrl Key + U Key (⌥): This key combination is used to load a new UVsets file. \n",
      "\n",
      "Ctrl Key + Alt Key + U Key (⌥): This key combination is used to edit the UV values of the selected object.\n",
      "\n",
      "Alt + Shift Key + Ctrl Key + U Key (⌥): This key combination is used to load an existing UVsets file.\n",
      "\n",
      "Ctrl + A - Select All: This shortcut button allows you to select all objects in the scene. \n",
      "\n",
      "Ctrl + G - Add a new keyframe: This shortcut button adds a new keyframe to the current timecode sequence."
     ]
    },
    {
     "data": {
      "text/plain": [
       "' To use Smart UV editing in Blender, you can press and hold the \"U\" key (⌥) on your keyboard to add a new UV keyplane to the scene. Then, you can either select the object you want to UV map or use the hotkey \"U-R\" to load an existing UVsets file. Finally, you can edit theuv values by pressing the \"Alt+K\" and \"Ctrl+K\" keys on your keyboard or using shortcut key combinations provided below:\\n\\nOption Key + Ctrl Key + U Key (⌥): This key combination is used to load a new UVsets file. \\n\\nCtrl Key + Alt Key + U Key (⌥): This key combination is used to edit the UV values of the selected object.\\n\\nAlt + Shift Key + Ctrl Key + U Key (⌥): This key combination is used to load an existing UVsets file.\\n\\nCtrl + A - Select All: This shortcut button allows you to select all objects in the scene. \\n\\nCtrl + G - Add a new keyframe: This shortcut button adds a new keyframe to the current timecode sequence.'"
      ]
     },
     "execution_count": 18,
     "metadata": {},
     "output_type": "execute_result"
    }
   ],
   "source": [
    "#testing with two simultaneous questions \n",
    "#with Temperature value=0\n",
    "llm(\"\"\"You are a 3d model expert. examples for blender shortcuts are given  \n",
    "\n",
    "        These are the blender shortcuts for various different operations\n",
    "\n",
    "        1.I - Insert a keyframe.\n",
    "        2.A - select all\n",
    "        3.A-G - Grab the whole model\n",
    "        4.U - smart uv editing\n",
    "        5.K - adding a keyset\n",
    "        6.Alt-K - Clearing a keyset\n",
    "        7.Ctrl-C -Copy the (single) value of the button.\n",
    "        8.Ctrl-V - Paste the (single) value of the button.\n",
    "        9.Ctrl-Alt-C - Copy the entire vector or color of the field.\n",
    "        10.Ctrl-Alt-V - Paste the entire vector or color of the button.\n",
    "        11.Alt-I - Clear the keyframe.\n",
    "        12.Ctrl-D - Assign a driver.\n",
    "        13.Ctrl-Alt-D - Clear the driver.\n",
    "        14.Backspace - Clear the value (sets to zero or clears a text field).\n",
    "\n",
    "        provide me the shortcut key to smart uv editing use the data from above list\n",
    "        \n",
    "        \n",
    "                \n",
    "\"\"\"\n",
    "   )"
   ]
  },
  {
   "cell_type": "code",
   "execution_count": 19,
   "metadata": {},
   "outputs": [
    {
     "name": "stdout",
     "output_type": "stream",
     "text": [
      " The shortcut key to adding a keyset use the data from above list is Command + K on Windows or Command + Ctrl + K on Mac."
     ]
    },
    {
     "data": {
      "text/plain": [
       "' The shortcut key to adding a keyset use the data from above list is Command + K on Windows or Command + Ctrl + K on Mac.'"
      ]
     },
     "execution_count": 19,
     "metadata": {},
     "output_type": "execute_result"
    }
   ],
   "source": [
    "#testing with two simultaneous questions \n",
    "#with Temperature value=0\n",
    "llm(\"\"\"You are a 3d model expert. examples for blender shortcuts are given  \n",
    "\n",
    "        These are the blender shortcuts for various different operations\n",
    "\n",
    "        1.I - Insert a keyframe.\n",
    "        2.A - select all\n",
    "        3.A-G - Grab the whole model\n",
    "        4.U - smart uv editing\n",
    "        5.K - adding a keyset\n",
    "        6.Alt-K - Clearing a keyset\n",
    "        7.Ctrl-C -Copy the (single) value of the button.\n",
    "        8.Ctrl-V - Paste the (single) value of the button.\n",
    "        9.Ctrl-Alt-C - Copy the entire vector or color of the field.\n",
    "        10.Ctrl-Alt-V - Paste the entire vector or color of the button.\n",
    "        11.Alt-I - Clear the keyframe.\n",
    "        12.Ctrl-D - Assign a driver.\n",
    "        13.Ctrl-Alt-D - Clear the driver.\n",
    "        14.Backspace - Clear the value (sets to zero or clears a text field).\n",
    "\n",
    "        provide me the shortcut key to adding a keyset use the data from above list\n",
    "        \n",
    "        \n",
    "                \n",
    "\"\"\"\n",
    "   )"
   ]
  },
  {
   "cell_type": "code",
   "execution_count": 20,
   "metadata": {},
   "outputs": [
    {
     "name": "stdout",
     "output_type": "stream",
     "text": [
      " The shortcut key to Clear a keyset in Blender is Ctrl+C (Cmd+C on macOS)."
     ]
    },
    {
     "data": {
      "text/plain": [
       "' The shortcut key to Clear a keyset in Blender is Ctrl+C (Cmd+C on macOS).'"
      ]
     },
     "execution_count": 20,
     "metadata": {},
     "output_type": "execute_result"
    }
   ],
   "source": [
    "#testing with two simultaneous questions \n",
    "#with Temperature value=0\n",
    "llm(\"\"\"You are a 3d model expert. examples for blender shortcuts are given  \n",
    "\n",
    "        These are the blender shortcuts for various different operations\n",
    "\n",
    "        1.I - Insert a keyframe.\n",
    "        2.A - select all\n",
    "        3.A-G - Grab the whole model\n",
    "        4.U - smart uv editing\n",
    "        5.K - adding a keyset\n",
    "        6.Alt-K - Clearing a keyset\n",
    "        7.Ctrl-C -Copy the (single) value of the button.\n",
    "        8.Ctrl-V - Paste the (single) value of the button.\n",
    "        9.Ctrl-Alt-C - Copy the entire vector or color of the field.\n",
    "        10.Ctrl-Alt-V - Paste the entire vector or color of the button.\n",
    "        11.Alt-I - Clear the keyframe.\n",
    "        12.Ctrl-D - Assign a driver.\n",
    "        13.Ctrl-Alt-D - Clear the driver.\n",
    "        14.Backspace - Clear the value (sets to zero or clears a text field).\n",
    "\n",
    "        provide me the shortcut key to Clearing a keyset. use the data from above list\n",
    "        \n",
    "        \n",
    "                \n",
    "\"\"\"\n",
    "   )"
   ]
  },
  {
   "cell_type": "code",
   "execution_count": 21,
   "metadata": {},
   "outputs": [
    {
     "name": "stdout",
     "output_type": "stream",
     "text": [
      " The shortcut key to Copying the value of the button is \"Ctrl-V\"."
     ]
    },
    {
     "data": {
      "text/plain": [
       "' The shortcut key to Copying the value of the button is \"Ctrl-V\".'"
      ]
     },
     "execution_count": 21,
     "metadata": {},
     "output_type": "execute_result"
    }
   ],
   "source": [
    "#testing with two simultaneous questions \n",
    "#with Temperature value=0\n",
    "llm(\"\"\"You are a 3d model expert. examples for blender shortcuts are given  \n",
    "\n",
    "        These are the blender shortcuts for various different operations\n",
    "\n",
    "        1.I - Insert a keyframe.\n",
    "        2.A - select all\n",
    "        3.A-G - Grab the whole model\n",
    "        4.U - smart uv editing\n",
    "        5.K - adding a keyset\n",
    "        6.Alt-K - Clearing a keyset\n",
    "        7.Ctrl-C -Copy the (single) value of the button.\n",
    "        8.Ctrl-V - Paste the (single) value of the button.\n",
    "        9.Ctrl-Alt-C - Copy the entire vector or color of the field.\n",
    "        10.Ctrl-Alt-V - Paste the entire vector or color of the button.\n",
    "        11.Alt-I - Clear the keyframe.\n",
    "        12.Ctrl-D - Assign a driver.\n",
    "        13.Ctrl-Alt-D - Clear the driver.\n",
    "        14.Backspace - Clear the value (sets to zero or clears a text field).\n",
    "\n",
    "        provide me the shortcut key to Copying the value of the button. use the data from above list\n",
    "        \n",
    "        \n",
    "                \n",
    "\"\"\"\n",
    "   )"
   ]
  },
  {
   "cell_type": "code",
   "execution_count": 22,
   "metadata": {},
   "outputs": [
    {
     "name": "stdout",
     "output_type": "stream",
     "text": [
      " Here are the shortcuts to paste the entire vector or color of a button in Blender:\n",
      "\n",
      "12: Ctrl+Alt+V or Shift+Alt+C for Vector tools and Color tools."
     ]
    },
    {
     "data": {
      "text/plain": [
       "' Here are the shortcuts to paste the entire vector or color of a button in Blender:\\n\\n12: Ctrl+Alt+V or Shift+Alt+C for Vector tools and Color tools.'"
      ]
     },
     "execution_count": 22,
     "metadata": {},
     "output_type": "execute_result"
    }
   ],
   "source": [
    "#testing with two simultaneous questions \n",
    "#with Temperature value=0\n",
    "llm(\"\"\"You are a 3d model expert. examples for blender shortcuts are given  \n",
    "\n",
    "        These are the blender shortcuts for various different operations\n",
    "\n",
    "        1.I - Insert a keyframe.\n",
    "        2.A - select all\n",
    "        3.A-G - Grab the whole model\n",
    "        4.U - smart uv editing\n",
    "        5.K - adding a keyset\n",
    "        6.Alt-K - Clearing a keyset\n",
    "        7.Ctrl-C -Copy the (single) value of the button.\n",
    "        8.Ctrl-V - Paste the (single) value of the button.\n",
    "        9.Ctrl-Alt-C - Copy the entire vector or color of thes field.\n",
    "        10.Ctrl-Alt-V - Paste the entire vector or color of the button.\n",
    "        11.Alt-I - Clear the keyframe.\n",
    "        12.Ctrl-D - Assign a driver.\n",
    "        13.Ctrl-Alt-D - Clear the driver.\n",
    "        14.Backspace - Clear the value (sets to zero or clears a text field).\n",
    "\n",
    "        provide me the shortcut key to  Paste the entire vector or color of the button. use the data from above list\n",
    "        \n",
    "        \n",
    "                \n",
    "\"\"\"\n",
    "   )"
   ]
  },
  {
   "cell_type": "code",
   "execution_count": 23,
   "metadata": {},
   "outputs": [
    {
     "name": "stdout",
     "output_type": "stream",
     "text": [
      " To copy the entire vector or color of a field in Blender, you can use the shortcut command 'Alt-K'. This command will clear the current selection and then create a new vector or color object by copying the existing one. So, you don't need to worry about the specific button mentioned above because the question seems to be based on incorrect information."
     ]
    },
    {
     "data": {
      "text/plain": [
       "\" To copy the entire vector or color of a field in Blender, you can use the shortcut command 'Alt-K'. This command will clear the current selection and then create a new vector or color object by copying the existing one. So, you don't need to worry about the specific button mentioned above because the question seems to be based on incorrect information.\""
      ]
     },
     "execution_count": 23,
     "metadata": {},
     "output_type": "execute_result"
    }
   ],
   "source": [
    "#testing with two simultaneous questions \n",
    "#with Temperature value=0\n",
    "llm(\"\"\"You are a 3d model expert. examples for blender shortcuts are given  \n",
    "\n",
    "        These are the blender shortcuts for various different operations\n",
    "\n",
    "        1.I - Insert a keyframe.\n",
    "        2.A - select all\n",
    "        3.A-G - Grab the whole model\n",
    "        4.U - smart uv editing\n",
    "        5.K - adding a keyset\n",
    "        6.Alt-K - Clearing a keyset\n",
    "        7.Ctrl-C -Copy the (single) value of the button.\n",
    "        8.Ctrl-V - Paste the (single) value of the button.\n",
    "        9.Ctrl-Alt-C - Copy the entire vector or color of the field.\n",
    "        10.Ctrl-Alt-V - Paste the entire vector or color of the button.\n",
    "        11.Alt-I - Clear the keyframe.\n",
    "        12.Ctrl-D - Assign a driver.\n",
    "        13.Ctrl-Alt-D - Clear the driver.\n",
    "        14.Backspace - Clear the value (sets to zero or clears a text field).\n",
    "\n",
    "        provide me the shortcut key to  Copy the entire vector or color of the field. use the data from above list\n",
    "        \n",
    "        \n",
    "                \n",
    "\"\"\"\n",
    "   )"
   ]
  },
  {
   "cell_type": "code",
   "execution_count": 24,
   "metadata": {},
   "outputs": [
    {
     "name": "stdout",
     "output_type": "stream",
     "text": [
      " To copy or duplicate the entire vector or color of a button, you can use the following shortcut:\n",
      "\n",
      "Alt+Ctrl+V or Ctrl+Ctrl+V\n",
      "\n",
      "This will duplicate the vector or color for that particular button."
     ]
    },
    {
     "data": {
      "text/plain": [
       "' To copy or duplicate the entire vector or color of a button, you can use the following shortcut:\\n\\nAlt+Ctrl+V or Ctrl+Ctrl+V\\n\\nThis will duplicate the vector or color for that particular button.'"
      ]
     },
     "execution_count": 24,
     "metadata": {},
     "output_type": "execute_result"
    }
   ],
   "source": [
    "#testing with two simultaneous questions \n",
    "#with Temperature value=0\n",
    "llm(\"\"\"You are a 3d model expert. examples for blender shortcuts are given  \n",
    "\n",
    "        These are the blender shortcuts for various different operations\n",
    "\n",
    "        1.I - Insert a keyframe.\n",
    "        2.A - select all\n",
    "        3.A-G - Grab the whole model\n",
    "        4.U - smart uv editing\n",
    "        5.K - adding a keyset\n",
    "        6.Alt-K - Clearing a keyset\n",
    "        7.Ctrl-C -Copy the (single) value of the button.\n",
    "        8.Ctrl-V - Paste the (single) value of the button.\n",
    "        9.Ctrl-Alt-C - Copy the entire vector or color of the field.\n",
    "        10.Ctrl-Alt-V - Paste the entire vector or color of the button.\n",
    "        11.Alt-I - Clear the keyframe.\n",
    "        12.Ctrl-D - Assign a driver.\n",
    "        13.Ctrl-Alt-D - Clear the driver.\n",
    "        14.Backspace - Clear the value (sets to zero or clears a text field).\n",
    "\n",
    "        provide me the shortcut key to Paste the entire vector or color of the button.. use the data from above list\n",
    "        \n",
    "        \n",
    "        \n",
    "                \n",
    "\"\"\"\n",
    "   )"
   ]
  },
  {
   "cell_type": "code",
   "execution_count": 25,
   "metadata": {},
   "outputs": [
    {
     "name": "stdout",
     "output_type": "stream",
     "text": [
      " To Clear the keyframe, you can use the shortcut command `Alt-K`, then enter the specific keyframe you want to delete, and press Enter. For example, if you have a keyframe named \"F2\", you can type \"F2\" and press Enter, or simply right-click and choose Remove Keyframe, and the `Alt-K` shortcut will automatically appear as an option."
     ]
    },
    {
     "data": {
      "text/plain": [
       "' To Clear the keyframe, you can use the shortcut command `Alt-K`, then enter the specific keyframe you want to delete, and press Enter. For example, if you have a keyframe named \"F2\", you can type \"F2\" and press Enter, or simply right-click and choose Remove Keyframe, and the `Alt-K` shortcut will automatically appear as an option.'"
      ]
     },
     "execution_count": 25,
     "metadata": {},
     "output_type": "execute_result"
    }
   ],
   "source": [
    "#testing with two simultaneous questions \n",
    "#with Temperature value=0\n",
    "llm(\"\"\"You are a 3d model expert. examples for blender shortcuts are given  \n",
    "\n",
    "        These are the blender shortcuts for various different operations\n",
    "\n",
    "        1.I - Insert a keyframe.\n",
    "        2.A - select all\n",
    "        3.A-G - Grab the whole model\n",
    "        4.U - smart uv editing\n",
    "        5.K - adding a keyset\n",
    "        6.Alt-K - Clearing a keyset\n",
    "        7.Ctrl-C -Copy the (single) value of the button.\n",
    "        8.Ctrl-V - Paste the (single) value of the button.\n",
    "        9.Ctrl-Alt-C - Copy the entire vector or color of the field.\n",
    "        10.Ctrl-Alt-V - Paste the entire vector or color of the button.\n",
    "        11.Alt-I - Clear the keyframe.\n",
    "        12.Ctrl-D - Assign a driver.\n",
    "        13.Ctrl-Alt-D - Clear the driver.\n",
    "        14.Backspace - Clear the value (sets to zero or clears a text field).\n",
    "\n",
    "        provide me the shortcut key to Clear the keyframe. use the data from above list\n",
    "        \n",
    "        \n",
    "        \n",
    "                \n",
    "\"\"\"\n",
    "   )"
   ]
  },
  {
   "cell_type": "code",
   "execution_count": 26,
   "metadata": {},
   "outputs": [
    {
     "name": "stdout",
     "output_type": "stream",
     "text": [
      " To assign a driver in Blender, you can use the 'D' key on your keyboard. Alternatively, if you have the data as a text file, you can copy and paste it into the Driver tab within Blender and click on 'Assign'."
     ]
    },
    {
     "data": {
      "text/plain": [
       "\" To assign a driver in Blender, you can use the 'D' key on your keyboard. Alternatively, if you have the data as a text file, you can copy and paste it into the Driver tab within Blender and click on 'Assign'.\""
      ]
     },
     "execution_count": 26,
     "metadata": {},
     "output_type": "execute_result"
    }
   ],
   "source": [
    "#testing with two simultaneous questions \n",
    "#with Temperature value=0\n",
    "llm(\"\"\"You are a 3d model expert. examples for blender shortcuts are given  \n",
    "\n",
    "        These are the blender shortcuts for variou different operations\n",
    "\n",
    "        1.I - Insert a keyframe.\n",
    "        2.A - select all\n",
    "        3.A-G - Grab the whole model\n",
    "        4.U - smart uv editing\n",
    "        5.K - adding a keyset\n",
    "        6.Alt-K - Clearing a keyset\n",
    "        7.Ctrl-C -Copy the (single) value of the button.\n",
    "        8.Ctrl-V - Paste the (single) value of the button.\n",
    "        9.Ctrl-Alt-C - Copy the entire vector or color of the field.\n",
    "        10.Ctrl-Alt-V - Paste the entire vector or color of the button.\n",
    "        11.Alt-I - Clear the keyframe.\n",
    "        12.Ctrl-D - Assign a driver.\n",
    "        13.Ctrl-Alt-D - Clear the driver.\n",
    "        14.Backspace - Clear the value (sets to zero or clears a text field).\n",
    "\n",
    "        provide me the shortcut key to Assign a driver. use the data from above list\n",
    "        \n",
    "        \n",
    "        \n",
    "                \n",
    "\"\"\"\n",
    "   )"
   ]
  },
  {
   "cell_type": "code",
   "execution_count": 27,
   "metadata": {},
   "outputs": [
    {
     "name": "stdout",
     "output_type": "stream",
     "text": [
      " The shortcut key to Clear the driver used the data from above list is Backspace. It clears the value and sets the device or data back to zero or clear a text field."
     ]
    },
    {
     "data": {
      "text/plain": [
       "' The shortcut key to Clear the driver used the data from above list is Backspace. It clears the value and sets the device or data back to zero or clear a text field.'"
      ]
     },
     "execution_count": 27,
     "metadata": {},
     "output_type": "execute_result"
    }
   ],
   "source": [
    "#testing with two simultaneous questions \n",
    "#with Temperature value=0\n",
    "llm(\"\"\"You are a 3d model expert. examples for blender shortcuts are given  \n",
    "\n",
    "        These are the blender shortcuts for various different operations\n",
    "\n",
    "        1.I - Insert a keyframe.\n",
    "        2.A - select all\n",
    "        3.A-G - Grab the whole model\n",
    "        4.U - smart uv editing\n",
    "        5.K - adding a keyset\n",
    "        6.Alt-K - Clearing a keyset\n",
    "        7.Ctrl-C -Copy the (single) value of the button.\n",
    "        8.Ctrl-V - Paste the (single) value of the button.\n",
    "        9.Ctrl-Alt-C - Copy the entire vector or color of the field.\n",
    "        10.Ctrl-Alt-V - Paste the entire vector or color of the button.\n",
    "        11.Alt-I - Clear the keyframe.\n",
    "        12.Ctrl-D - Assign a driver.\n",
    "        13.Ctrl-Alt-D - Clear the driver.\n",
    "        14.Backspace - Clear the value (sets to zero or clears a text field).\n",
    "\n",
    "        provide me the shortcut key to Clear the driver. use the data from above list\n",
    "        \n",
    "        \n",
    "        \n",
    "                \n",
    "\"\"\"\n",
    "   )"
   ]
  },
  {
   "cell_type": "code",
   "execution_count": 28,
   "metadata": {},
   "outputs": [
    {
     "name": "stdout",
     "output_type": "stream",
     "text": [
      " To clear the value (set to zero or clears a text field) in blender using the above listed shortcuts, you can use the following keys:\n",
      "\n",
      "Alt-K (clears a keyset)\n",
      "Alt-C ( copies the entire vector or color of the field)\n",
      "Backspace (clears the value)"
     ]
    },
    {
     "data": {
      "text/plain": [
       "' To clear the value (set to zero or clears a text field) in blender using the above listed shortcuts, you can use the following keys:\\n\\nAlt-K (clears a keyset)\\nAlt-C ( copies the entire vector or color of the field)\\nBackspace (clears the value)'"
      ]
     },
     "execution_count": 28,
     "metadata": {},
     "output_type": "execute_result"
    }
   ],
   "source": [
    "#testing with two simultaneous questions \n",
    "#with Temperature value=0\n",
    "llm(\"\"\"You are a 3d model expert. examples for blender shortcuts are given  \n",
    "\n",
    "        These are the blender shortcuts for various different operations\n",
    "\n",
    "        1.I - Insert a keyframe.\n",
    "        2.A - select all\n",
    "        3.A-G - Grab the whole model\n",
    "        4.U - smart uv editing\n",
    "        5.K - adding a keyset\n",
    "        6.Alt-K - Clearing a keyset\n",
    "        7.Ctrl-C -Copy the (single) value of the button.\n",
    "        8.Ctrl-V - Paste the (single) value of the button.\n",
    "        9.Ctrl-Alt-C - Copy the entire vector or color of the field.\n",
    "        10.Ctrl-Alt-V - Paste the entire vector or color of the button.\n",
    "        11.Alt-I - Clear the keyframe.\n",
    "        12.Ctrl-D - Assign a driver.\n",
    "        13.Ctrl-Alt-D - Clear the driver.\n",
    "        14.Backspace - Clear the value (sets to zero or clears a text field).\n",
    "\n",
    "        provide me the shortcut key to  Clear the value (sets to zero or clears a text field). use the data from above list\n",
    "        \n",
    "        \n",
    "        \n",
    "                \n",
    "\"\"\"\n",
    "   )"
   ]
  },
  {
   "cell_type": "code",
   "execution_count": 39,
   "metadata": {},
   "outputs": [
    {
     "name": "stdout",
     "output_type": "stream",
     "text": [
      " To clear a keyframe, you can use the shortcut key \"Backspace\"."
     ]
    },
    {
     "data": {
      "text/plain": [
       "' To clear a keyframe, you can use the shortcut key \"Backspace\".'"
      ]
     },
     "execution_count": 39,
     "metadata": {},
     "output_type": "execute_result"
    }
   ],
   "source": [
    "#Added extra shortcuts and got output for a value\n",
    "llm(\"\"\"You are a Ai for Elgi Equiments Limitted so introduce yourself as \"chat assistant for Elgi\",\n",
    " an automated service to collect input from the user and provide information related to input,\\\n",
    "       \n",
    "        if the User asks you for information on a topic which is not related to 3d modelling shortcuts reply with the following :\n",
    "        \"Sorry! I am the assistant for Elgi Equipments. However, While my main expertise is to assist you \n",
    "        with queries related to Elgi, I suggest you to browse the internet for some videos \n",
    "        or websites which can help you out with that\".\\\n",
    "        answer the user in short and answer what is wanted \\\n",
    "        You respond in a short, very conversational friendly style\\\n",
    "        the information about the blender shortcuts includes:\n",
    "\n",
    "        1. I - Insert a keyframe.\n",
    "        2.A - select all\n",
    "        3.A-G - Grab the whole model\n",
    "        4.U - smart uv editing\n",
    "        5.K - adding a keyset\n",
    "        6.Alt-K - Clearing a keyset\n",
    "        7.Ctrl-C -Copy the (single) value of the button.\n",
    "        8.Ctrl-V - Paste the (single) value of the button.\n",
    "        9.Ctrl-Alt-C - Copy the entire vector or color of the field.\n",
    "        10.Ctrl-Alt-V - Paste the entire vector or color of the button.\n",
    "        11.Alt-I - Clear the keyframe.\n",
    "        12.Ctrl-D - Assign a driver.\n",
    "        13.Ctrl-Alt-D - Clear the driver.\n",
    "        14.Backspace - Clear the value (sets to zero or clears a text field).\\\n",
    "        \n",
    "        Provide me the shortcut key for clear the keyframe\n",
    "\n",
    "\n",
    "\n",
    "\"\"\")"
   ]
  },
  {
   "cell_type": "code",
   "execution_count": 56,
   "metadata": {},
   "outputs": [
    {
     "name": "stdout",
     "output_type": "stream",
     "text": [
      " Sure, here are the translations in both formal and informal forms:\n",
      "\n",
      "Formal translation: \n",
      "¡El texto tequilón! (technically incorrect, Spanish typically doesn't use the word \"tequilón\")\n",
      "\n",
      "Informal translation: \n",
      "¡Voy a cambiar el texto para que te lo dijes! (I'm going to change the text so you can see it)"
     ]
    },
    {
     "data": {
      "text/plain": [
       "' Sure, here are the translations in both formal and informal forms:\\n\\nFormal translation: \\n¡El texto tequilón! (technically incorrect, Spanish typically doesn\\'t use the word \"tequilón\")\\n\\nInformal translation: \\n¡Voy a cambiar el texto para que te lo dijes! (I\\'m going to change the text so you can see it)'"
      ]
     },
     "execution_count": 56,
     "metadata": {},
     "output_type": "execute_result"
    }
   ],
   "source": []
  },
  {
   "cell_type": "code",
   "execution_count": 46,
   "metadata": {},
   "outputs": [
    {
     "name": "stdout",
     "output_type": "stream",
     "text": [
      " The language used in this phrase is French."
     ]
    },
    {
     "data": {
      "text/plain": [
       "' The language used in this phrase is French.'"
      ]
     },
     "execution_count": 46,
     "metadata": {},
     "output_type": "execute_result"
    }
   ],
   "source": []
  },
  {
   "cell_type": "code",
   "execution_count": 47,
   "metadata": {},
   "outputs": [
    {
     "name": "stdout",
     "output_type": "stream",
     "text": [
      " I'm sorry, but as an AI language model, I cannot create HTML tables or generate code in HTML format. However, I can help you with translating the Python dictionary to JSON and then converting it to a string in JSON format. \n",
      "\n",
      "You can follow these steps to get the desired result:\n",
      "1. Convert the Python dictionary to a JSON object:\n",
      "```\n",
      "import json\n",
      "python_dict = { 'name': 'John', 'age': 25, 'address': { 'city': 'New York', 'state': 'New York' } }\n",
      "json_obj = json.dumps(python_dict)\n",
      "print(json_obj)\n",
      "```\n",
      "Output:\n",
      "```\n",
      "{\n",
      " \"name\": \"John\",\n",
      " \"age\": 25,\n",
      " \"address\": {\n",
      " \"city\": \"New York\",\n",
      " \"state\": \"New York\"\n",
      " }\n",
      "}\n",
      "```\n",
      "2. Convert the JSON object to a string in JSON format:\n",
      "```\n",
      "import json\n",
      "json_obj = json.dumps(python_dict)\n",
      "print(json_obj)\n",
      "```\n",
      "Output:\n",
      "```\n",
      "'{...}'\n",
      "```\n",
      "So, you can create an HTML table with the column headers and a title as follows:\n",
      "```\n",
      "<table>\n",
      " <thead>\n",
      " <tr>\n",
      " <th>Name</th>\n",
      " <th>Age</th>\n",
      " <th>Address</th>\n",
      " </tr>\n",
      " </thead>\n",
      " <tbody>\n",
      " <tr>\n",
      " <td>John</td>\n",
      " <td>25</td>\n",
      " <td>{'city': 'New York', 'state': 'New York'}</td>\n",
      " </tr>\n",
      " </tbody>\n",
      "</table>\n",
      "``` \n",
      "This will display the Python dictionary data in an HTML table with column headers and a title."
     ]
    },
    {
     "data": {
      "text/plain": [
       "' I\\'m sorry, but as an AI language model, I cannot create HTML tables or generate code in HTML format. However, I can help you with translating the Python dictionary to JSON and then converting it to a string in JSON format. \\n\\nYou can follow these steps to get the desired result:\\n1. Convert the Python dictionary to a JSON object:\\n```\\nimport json\\npython_dict = { \\'name\\': \\'John\\', \\'age\\': 25, \\'address\\': { \\'city\\': \\'New York\\', \\'state\\': \\'New York\\' } }\\njson_obj = json.dumps(python_dict)\\nprint(json_obj)\\n```\\nOutput:\\n```\\n{\\n \"name\": \"John\",\\n \"age\": 25,\\n \"address\": {\\n \"city\": \"New York\",\\n \"state\": \"New York\"\\n }\\n}\\n```\\n2. Convert the JSON object to a string in JSON format:\\n```\\nimport json\\njson_obj = json.dumps(python_dict)\\nprint(json_obj)\\n```\\nOutput:\\n```\\n\\'{...}\\'\\n```\\nSo, you can create an HTML table with the column headers and a title as follows:\\n```\\n<table>\\n <thead>\\n <tr>\\n <th>Name</th>\\n <th>Age</th>\\n <th>Address</th>\\n </tr>\\n </thead>\\n <tbody>\\n <tr>\\n <td>John</td>\\n <td>25</td>\\n <td>{\\'city\\': \\'New York\\', \\'state\\': \\'New York\\'}</td>\\n </tr>\\n </tbody>\\n</table>\\n``` \\nThis will display the Python dictionary data in an HTML table with column headers and a title.'"
      ]
     },
     "execution_count": 47,
     "metadata": {},
     "output_type": "execute_result"
    }
   ],
   "source": []
  },
  {
   "cell_type": "code",
   "execution_count": 61,
   "metadata": {},
   "outputs": [
    {
     "ename": "KeyboardInterrupt",
     "evalue": "",
     "output_type": "error",
     "traceback": [
      "\u001b[1;31m---------------------------------------------------------------------------\u001b[0m",
      "\u001b[1;31mTimeoutError\u001b[0m                              Traceback (most recent call last)",
      "File \u001b[1;32m~\\AppData\\Roaming\\Python\\Python311\\site-packages\\urllib3\\util\\connection.py:73\u001b[0m, in \u001b[0;36mcreate_connection\u001b[1;34m(address, timeout, source_address, socket_options)\u001b[0m\n\u001b[0;32m     72\u001b[0m     sock\u001b[39m.\u001b[39mbind(source_address)\n\u001b[1;32m---> 73\u001b[0m sock\u001b[39m.\u001b[39mconnect(sa)\n\u001b[0;32m     74\u001b[0m \u001b[39m# Break explicitly a reference cycle\u001b[39;00m\n",
      "\u001b[1;31mTimeoutError\u001b[0m: [WinError 10060] A connection attempt failed because the connected party did not properly respond after a period of time, or established connection failed because connected host has failed to respond",
      "\nDuring handling of the above exception, another exception occurred:\n",
      "\u001b[1;31mKeyboardInterrupt\u001b[0m                         Traceback (most recent call last)",
      "Cell \u001b[1;32mIn[61], line 3\u001b[0m\n\u001b[0;32m      1\u001b[0m text\u001b[38;5;241m=\u001b[39m\u001b[38;5;124mf\u001b[39m\u001b[38;5;124m\"\"\"\u001b[39m\n\u001b[0;32m      2\u001b[0m \u001b[38;5;124m        \u001b[39m\u001b[38;5;124m\"\"\"\u001b[39m\n\u001b[1;32m----> 3\u001b[0m \u001b[43mllm\u001b[49m\u001b[43m(\u001b[49m\u001b[38;5;124;43m\"\"\"\u001b[39;49m\u001b[38;5;124;43m Provide me the shortcut to Assign a driver using the data given below\u001b[39;49m\u001b[38;5;130;43;01m\\\u001b[39;49;00m\n\u001b[0;32m      4\u001b[0m \u001b[38;5;124;43m        data: ```\u001b[39;49m\n\u001b[0;32m      5\u001b[0m \u001b[38;5;124;43m        1. I - Insert a keyframe.\u001b[39;49m\u001b[38;5;130;43;01m\\\u001b[39;49;00m\n\u001b[0;32m      6\u001b[0m \u001b[38;5;124;43m        2.A - select all\u001b[39;49m\u001b[38;5;130;43;01m\\\u001b[39;49;00m\n\u001b[0;32m      7\u001b[0m \u001b[38;5;124;43m        3.A-G - Grab the whole model\u001b[39;49m\u001b[38;5;130;43;01m\\\u001b[39;49;00m\n\u001b[0;32m      8\u001b[0m \u001b[38;5;124;43m        4.U - smart uv editing\u001b[39;49m\u001b[38;5;130;43;01m\\\u001b[39;49;00m\n\u001b[0;32m      9\u001b[0m \u001b[38;5;124;43m        5.K - adding a keyset\u001b[39;49m\u001b[38;5;130;43;01m\\\u001b[39;49;00m\n\u001b[0;32m     10\u001b[0m \u001b[38;5;124;43m        6.Alt-K - Clearing a keyset\u001b[39;49m\u001b[38;5;130;43;01m\\\u001b[39;49;00m\n\u001b[0;32m     11\u001b[0m \u001b[38;5;124;43m        7.Ctrl-C -Copy the (single) value of the button.\u001b[39;49m\u001b[38;5;130;43;01m\\\u001b[39;49;00m\n\u001b[0;32m     12\u001b[0m \u001b[38;5;124;43m        8.Ctrl-V - Paste the (single) value of the button.\u001b[39;49m\u001b[38;5;130;43;01m\\\u001b[39;49;00m\n\u001b[0;32m     13\u001b[0m \u001b[38;5;124;43m        9.Ctrl-Alt-C - Copy the entire vector or color of the field.\u001b[39;49m\u001b[38;5;130;43;01m\\\u001b[39;49;00m\n\u001b[0;32m     14\u001b[0m \u001b[38;5;124;43m        10.Ctrl-Alt-V - Paste the entire vector or color of the button.\u001b[39;49m\u001b[38;5;130;43;01m\\\u001b[39;49;00m\n\u001b[0;32m     15\u001b[0m \u001b[38;5;124;43m        11.Alt-I - Clear the keyframe.\u001b[39;49m\u001b[38;5;130;43;01m\\\u001b[39;49;00m\n\u001b[0;32m     16\u001b[0m \u001b[38;5;124;43m        12.Ctrl-D - Assign a driver.\u001b[39;49m\u001b[38;5;130;43;01m\\\u001b[39;49;00m\n\u001b[0;32m     17\u001b[0m \u001b[38;5;124;43m        13.Ctrl-Alt-D - Clear the driver.\u001b[39;49m\u001b[38;5;130;43;01m\\\u001b[39;49;00m\n\u001b[0;32m     18\u001b[0m \u001b[38;5;124;43m        14.Backspace - Clear the value (sets to zero or clears a text field).```\u001b[39;49m\n\u001b[0;32m     19\u001b[0m \u001b[38;5;124;43m    \u001b[39;49m\n\u001b[0;32m     20\u001b[0m \u001b[38;5;124;43m\"\"\"\u001b[39;49m\u001b[43m)\u001b[49m\n",
      "File \u001b[1;32m~\\AppData\\Roaming\\Python\\Python311\\site-packages\\langchain_core\\language_models\\llms.py:892\u001b[0m, in \u001b[0;36mBaseLLM.__call__\u001b[1;34m(self, prompt, stop, callbacks, tags, metadata, **kwargs)\u001b[0m\n\u001b[0;32m    885\u001b[0m \u001b[39mif\u001b[39;00m \u001b[39mnot\u001b[39;00m \u001b[39misinstance\u001b[39m(prompt, \u001b[39mstr\u001b[39m):\n\u001b[0;32m    886\u001b[0m     \u001b[39mraise\u001b[39;00m \u001b[39mValueError\u001b[39;00m(\n\u001b[0;32m    887\u001b[0m         \u001b[39m\"\u001b[39m\u001b[39mArgument `prompt` is expected to be a string. Instead found \u001b[39m\u001b[39m\"\u001b[39m\n\u001b[0;32m    888\u001b[0m         \u001b[39mf\u001b[39m\u001b[39m\"\u001b[39m\u001b[39m{\u001b[39;00m\u001b[39mtype\u001b[39m(prompt)\u001b[39m}\u001b[39;00m\u001b[39m. If you want to run the LLM on multiple prompts, use \u001b[39m\u001b[39m\"\u001b[39m\n\u001b[0;32m    889\u001b[0m         \u001b[39m\"\u001b[39m\u001b[39m`generate` instead.\u001b[39m\u001b[39m\"\u001b[39m\n\u001b[0;32m    890\u001b[0m     )\n\u001b[0;32m    891\u001b[0m \u001b[39mreturn\u001b[39;00m (\n\u001b[1;32m--> 892\u001b[0m     \u001b[39mself\u001b[39;49m\u001b[39m.\u001b[39;49mgenerate(\n\u001b[0;32m    893\u001b[0m         [prompt],\n\u001b[0;32m    894\u001b[0m         stop\u001b[39m=\u001b[39;49mstop,\n\u001b[0;32m    895\u001b[0m         callbacks\u001b[39m=\u001b[39;49mcallbacks,\n\u001b[0;32m    896\u001b[0m         tags\u001b[39m=\u001b[39;49mtags,\n\u001b[0;32m    897\u001b[0m         metadata\u001b[39m=\u001b[39;49mmetadata,\n\u001b[0;32m    898\u001b[0m         \u001b[39m*\u001b[39;49m\u001b[39m*\u001b[39;49mkwargs,\n\u001b[0;32m    899\u001b[0m     )\n\u001b[0;32m    900\u001b[0m     \u001b[39m.\u001b[39mgenerations[\u001b[39m0\u001b[39m][\u001b[39m0\u001b[39m]\n\u001b[0;32m    901\u001b[0m     \u001b[39m.\u001b[39mtext\n\u001b[0;32m    902\u001b[0m )\n",
      "File \u001b[1;32m~\\AppData\\Roaming\\Python\\Python311\\site-packages\\langchain_core\\language_models\\llms.py:666\u001b[0m, in \u001b[0;36mBaseLLM.generate\u001b[1;34m(self, prompts, stop, callbacks, tags, metadata, run_name, **kwargs)\u001b[0m\n\u001b[0;32m    650\u001b[0m         \u001b[39mraise\u001b[39;00m \u001b[39mValueError\u001b[39;00m(\n\u001b[0;32m    651\u001b[0m             \u001b[39m\"\u001b[39m\u001b[39mAsked to cache, but no cache found at `langchain.cache`.\u001b[39m\u001b[39m\"\u001b[39m\n\u001b[0;32m    652\u001b[0m         )\n\u001b[0;32m    653\u001b[0m     run_managers \u001b[39m=\u001b[39m [\n\u001b[0;32m    654\u001b[0m         callback_manager\u001b[39m.\u001b[39mon_llm_start(\n\u001b[0;32m    655\u001b[0m             dumpd(\u001b[39mself\u001b[39m),\n\u001b[1;32m   (...)\u001b[0m\n\u001b[0;32m    664\u001b[0m         )\n\u001b[0;32m    665\u001b[0m     ]\n\u001b[1;32m--> 666\u001b[0m     output \u001b[39m=\u001b[39m \u001b[39mself\u001b[39;49m\u001b[39m.\u001b[39;49m_generate_helper(\n\u001b[0;32m    667\u001b[0m         prompts, stop, run_managers, \u001b[39mbool\u001b[39;49m(new_arg_supported), \u001b[39m*\u001b[39;49m\u001b[39m*\u001b[39;49mkwargs\n\u001b[0;32m    668\u001b[0m     )\n\u001b[0;32m    669\u001b[0m     \u001b[39mreturn\u001b[39;00m output\n\u001b[0;32m    670\u001b[0m \u001b[39mif\u001b[39;00m \u001b[39mlen\u001b[39m(missing_prompts) \u001b[39m>\u001b[39m \u001b[39m0\u001b[39m:\n",
      "File \u001b[1;32m~\\AppData\\Roaming\\Python\\Python311\\site-packages\\langchain_core\\language_models\\llms.py:553\u001b[0m, in \u001b[0;36mBaseLLM._generate_helper\u001b[1;34m(self, prompts, stop, run_managers, new_arg_supported, **kwargs)\u001b[0m\n\u001b[0;32m    551\u001b[0m     \u001b[39mfor\u001b[39;00m run_manager \u001b[39min\u001b[39;00m run_managers:\n\u001b[0;32m    552\u001b[0m         run_manager\u001b[39m.\u001b[39mon_llm_error(e, response\u001b[39m=\u001b[39mLLMResult(generations\u001b[39m=\u001b[39m[]))\n\u001b[1;32m--> 553\u001b[0m     \u001b[39mraise\u001b[39;00m e\n\u001b[0;32m    554\u001b[0m flattened_outputs \u001b[39m=\u001b[39m output\u001b[39m.\u001b[39mflatten()\n\u001b[0;32m    555\u001b[0m \u001b[39mfor\u001b[39;00m manager, flattened_output \u001b[39min\u001b[39;00m \u001b[39mzip\u001b[39m(run_managers, flattened_outputs):\n",
      "File \u001b[1;32m~\\AppData\\Roaming\\Python\\Python311\\site-packages\\langchain_core\\language_models\\llms.py:540\u001b[0m, in \u001b[0;36mBaseLLM._generate_helper\u001b[1;34m(self, prompts, stop, run_managers, new_arg_supported, **kwargs)\u001b[0m\n\u001b[0;32m    530\u001b[0m \u001b[39mdef\u001b[39;00m \u001b[39m_generate_helper\u001b[39m(\n\u001b[0;32m    531\u001b[0m     \u001b[39mself\u001b[39m,\n\u001b[0;32m    532\u001b[0m     prompts: List[\u001b[39mstr\u001b[39m],\n\u001b[1;32m   (...)\u001b[0m\n\u001b[0;32m    536\u001b[0m     \u001b[39m*\u001b[39m\u001b[39m*\u001b[39mkwargs: Any,\n\u001b[0;32m    537\u001b[0m ) \u001b[39m-\u001b[39m\u001b[39m>\u001b[39m LLMResult:\n\u001b[0;32m    538\u001b[0m     \u001b[39mtry\u001b[39;00m:\n\u001b[0;32m    539\u001b[0m         output \u001b[39m=\u001b[39m (\n\u001b[1;32m--> 540\u001b[0m             \u001b[39mself\u001b[39;49m\u001b[39m.\u001b[39;49m_generate(\n\u001b[0;32m    541\u001b[0m                 prompts,\n\u001b[0;32m    542\u001b[0m                 stop\u001b[39m=\u001b[39;49mstop,\n\u001b[0;32m    543\u001b[0m                 \u001b[39m# TODO: support multiple run managers\u001b[39;49;00m\n\u001b[0;32m    544\u001b[0m                 run_manager\u001b[39m=\u001b[39;49mrun_managers[\u001b[39m0\u001b[39;49m] \u001b[39mif\u001b[39;49;00m run_managers \u001b[39melse\u001b[39;49;00m \u001b[39mNone\u001b[39;49;00m,\n\u001b[0;32m    545\u001b[0m                 \u001b[39m*\u001b[39;49m\u001b[39m*\u001b[39;49mkwargs,\n\u001b[0;32m    546\u001b[0m             )\n\u001b[0;32m    547\u001b[0m             \u001b[39mif\u001b[39;00m new_arg_supported\n\u001b[0;32m    548\u001b[0m             \u001b[39melse\u001b[39;00m \u001b[39mself\u001b[39m\u001b[39m.\u001b[39m_generate(prompts, stop\u001b[39m=\u001b[39mstop)\n\u001b[0;32m    549\u001b[0m         )\n\u001b[0;32m    550\u001b[0m     \u001b[39mexcept\u001b[39;00m \u001b[39mBaseException\u001b[39;00m \u001b[39mas\u001b[39;00m e:\n\u001b[0;32m    551\u001b[0m         \u001b[39mfor\u001b[39;00m run_manager \u001b[39min\u001b[39;00m run_managers:\n",
      "File \u001b[1;32m~\\AppData\\Roaming\\Python\\Python311\\site-packages\\langchain_community\\llms\\ollama.py:283\u001b[0m, in \u001b[0;36mOllama._generate\u001b[1;34m(self, prompts, stop, images, run_manager, **kwargs)\u001b[0m\n\u001b[0;32m    281\u001b[0m generations \u001b[39m=\u001b[39m []\n\u001b[0;32m    282\u001b[0m \u001b[39mfor\u001b[39;00m prompt \u001b[39min\u001b[39;00m prompts:\n\u001b[1;32m--> 283\u001b[0m     final_chunk \u001b[39m=\u001b[39m \u001b[39msuper\u001b[39;49m()\u001b[39m.\u001b[39;49m_stream_with_aggregation(\n\u001b[0;32m    284\u001b[0m         prompt,\n\u001b[0;32m    285\u001b[0m         stop\u001b[39m=\u001b[39;49mstop,\n\u001b[0;32m    286\u001b[0m         images\u001b[39m=\u001b[39;49mimages,\n\u001b[0;32m    287\u001b[0m         run_manager\u001b[39m=\u001b[39;49mrun_manager,\n\u001b[0;32m    288\u001b[0m         verbose\u001b[39m=\u001b[39;49m\u001b[39mself\u001b[39;49m\u001b[39m.\u001b[39;49mverbose,\n\u001b[0;32m    289\u001b[0m         \u001b[39m*\u001b[39;49m\u001b[39m*\u001b[39;49mkwargs,\n\u001b[0;32m    290\u001b[0m     )\n\u001b[0;32m    291\u001b[0m     generations\u001b[39m.\u001b[39mappend([final_chunk])\n\u001b[0;32m    292\u001b[0m \u001b[39mreturn\u001b[39;00m LLMResult(generations\u001b[39m=\u001b[39mgenerations)\n",
      "File \u001b[1;32m~\\AppData\\Roaming\\Python\\Python311\\site-packages\\langchain_community\\llms\\ollama.py:218\u001b[0m, in \u001b[0;36m_OllamaCommon._stream_with_aggregation\u001b[1;34m(self, prompt, stop, run_manager, verbose, **kwargs)\u001b[0m\n\u001b[0;32m    209\u001b[0m \u001b[39mdef\u001b[39;00m \u001b[39m_stream_with_aggregation\u001b[39m(\n\u001b[0;32m    210\u001b[0m     \u001b[39mself\u001b[39m,\n\u001b[0;32m    211\u001b[0m     prompt: \u001b[39mstr\u001b[39m,\n\u001b[1;32m   (...)\u001b[0m\n\u001b[0;32m    215\u001b[0m     \u001b[39m*\u001b[39m\u001b[39m*\u001b[39mkwargs: Any,\n\u001b[0;32m    216\u001b[0m ) \u001b[39m-\u001b[39m\u001b[39m>\u001b[39m GenerationChunk:\n\u001b[0;32m    217\u001b[0m     final_chunk: Optional[GenerationChunk] \u001b[39m=\u001b[39m \u001b[39mNone\u001b[39;00m\n\u001b[1;32m--> 218\u001b[0m     \u001b[39mfor\u001b[39;49;00m stream_resp \u001b[39min\u001b[39;49;00m \u001b[39mself\u001b[39;49m\u001b[39m.\u001b[39;49m_create_generate_stream(prompt, stop, \u001b[39m*\u001b[39;49m\u001b[39m*\u001b[39;49mkwargs):\n\u001b[0;32m    219\u001b[0m         \u001b[39mif\u001b[39;49;00m stream_resp:\n\u001b[0;32m    220\u001b[0m             chunk \u001b[39m=\u001b[39;49m _stream_response_to_generation_chunk(stream_resp)\n",
      "File \u001b[1;32m~\\AppData\\Roaming\\Python\\Python311\\site-packages\\langchain_community\\llms\\ollama.py:144\u001b[0m, in \u001b[0;36m_OllamaCommon._create_generate_stream\u001b[1;34m(self, prompt, stop, images, **kwargs)\u001b[0m\n\u001b[0;32m    136\u001b[0m \u001b[39mdef\u001b[39;00m \u001b[39m_create_generate_stream\u001b[39m(\n\u001b[0;32m    137\u001b[0m     \u001b[39mself\u001b[39m,\n\u001b[0;32m    138\u001b[0m     prompt: \u001b[39mstr\u001b[39m,\n\u001b[1;32m   (...)\u001b[0m\n\u001b[0;32m    141\u001b[0m     \u001b[39m*\u001b[39m\u001b[39m*\u001b[39mkwargs: Any,\n\u001b[0;32m    142\u001b[0m ) \u001b[39m-\u001b[39m\u001b[39m>\u001b[39m Iterator[\u001b[39mstr\u001b[39m]:\n\u001b[0;32m    143\u001b[0m     payload \u001b[39m=\u001b[39m {\u001b[39m\"\u001b[39m\u001b[39mprompt\u001b[39m\u001b[39m\"\u001b[39m: prompt, \u001b[39m\"\u001b[39m\u001b[39mimages\u001b[39m\u001b[39m\"\u001b[39m: images}\n\u001b[1;32m--> 144\u001b[0m     \u001b[39myield from\u001b[39;00m \u001b[39mself\u001b[39;49m\u001b[39m.\u001b[39;49m_create_stream(\n\u001b[0;32m    145\u001b[0m         payload\u001b[39m=\u001b[39;49mpayload,\n\u001b[0;32m    146\u001b[0m         stop\u001b[39m=\u001b[39;49mstop,\n\u001b[0;32m    147\u001b[0m         api_url\u001b[39m=\u001b[39;49m\u001b[39mf\u001b[39;49m\u001b[39m\"\u001b[39;49m\u001b[39m{\u001b[39;49;00m\u001b[39mself\u001b[39;49m\u001b[39m.\u001b[39;49mbase_url\u001b[39m}\u001b[39;49;00m\u001b[39m/api/generate/\u001b[39;49m\u001b[39m\"\u001b[39;49m,\n\u001b[0;32m    148\u001b[0m         \u001b[39m*\u001b[39;49m\u001b[39m*\u001b[39;49mkwargs,\n\u001b[0;32m    149\u001b[0m     )\n",
      "File \u001b[1;32m~\\AppData\\Roaming\\Python\\Python311\\site-packages\\langchain_community\\llms\\ollama.py:188\u001b[0m, in \u001b[0;36m_OllamaCommon._create_stream\u001b[1;34m(self, api_url, payload, stop, **kwargs)\u001b[0m\n\u001b[0;32m    181\u001b[0m \u001b[39melse\u001b[39;00m:\n\u001b[0;32m    182\u001b[0m     request_payload \u001b[39m=\u001b[39m {\n\u001b[0;32m    183\u001b[0m         \u001b[39m\"\u001b[39m\u001b[39mprompt\u001b[39m\u001b[39m\"\u001b[39m: payload\u001b[39m.\u001b[39mget(\u001b[39m\"\u001b[39m\u001b[39mprompt\u001b[39m\u001b[39m\"\u001b[39m),\n\u001b[0;32m    184\u001b[0m         \u001b[39m\"\u001b[39m\u001b[39mimages\u001b[39m\u001b[39m\"\u001b[39m: payload\u001b[39m.\u001b[39mget(\u001b[39m\"\u001b[39m\u001b[39mimages\u001b[39m\u001b[39m\"\u001b[39m, []),\n\u001b[0;32m    185\u001b[0m         \u001b[39m*\u001b[39m\u001b[39m*\u001b[39mparams,\n\u001b[0;32m    186\u001b[0m     }\n\u001b[1;32m--> 188\u001b[0m response \u001b[39m=\u001b[39m requests\u001b[39m.\u001b[39;49mpost(\n\u001b[0;32m    189\u001b[0m     url\u001b[39m=\u001b[39;49mapi_url,\n\u001b[0;32m    190\u001b[0m     headers\u001b[39m=\u001b[39;49m{\u001b[39m\"\u001b[39;49m\u001b[39mContent-Type\u001b[39;49m\u001b[39m\"\u001b[39;49m: \u001b[39m\"\u001b[39;49m\u001b[39mapplication/json\u001b[39;49m\u001b[39m\"\u001b[39;49m},\n\u001b[0;32m    191\u001b[0m     json\u001b[39m=\u001b[39;49mrequest_payload,\n\u001b[0;32m    192\u001b[0m     stream\u001b[39m=\u001b[39;49m\u001b[39mTrue\u001b[39;49;00m,\n\u001b[0;32m    193\u001b[0m     timeout\u001b[39m=\u001b[39;49m\u001b[39mself\u001b[39;49m\u001b[39m.\u001b[39;49mtimeout,\n\u001b[0;32m    194\u001b[0m )\n\u001b[0;32m    195\u001b[0m response\u001b[39m.\u001b[39mencoding \u001b[39m=\u001b[39m \u001b[39m\"\u001b[39m\u001b[39mutf-8\u001b[39m\u001b[39m\"\u001b[39m\n\u001b[0;32m    196\u001b[0m \u001b[39mif\u001b[39;00m response\u001b[39m.\u001b[39mstatus_code \u001b[39m!=\u001b[39m \u001b[39m200\u001b[39m:\n",
      "File \u001b[1;32m~\\AppData\\Roaming\\Python\\Python311\\site-packages\\requests\\api.py:115\u001b[0m, in \u001b[0;36mpost\u001b[1;34m(url, data, json, **kwargs)\u001b[0m\n\u001b[0;32m    103\u001b[0m \u001b[39mdef\u001b[39;00m \u001b[39mpost\u001b[39m(url, data\u001b[39m=\u001b[39m\u001b[39mNone\u001b[39;00m, json\u001b[39m=\u001b[39m\u001b[39mNone\u001b[39;00m, \u001b[39m*\u001b[39m\u001b[39m*\u001b[39mkwargs):\n\u001b[0;32m    104\u001b[0m \u001b[39m    \u001b[39m\u001b[39mr\u001b[39m\u001b[39m\"\"\"Sends a POST request.\u001b[39;00m\n\u001b[0;32m    105\u001b[0m \n\u001b[0;32m    106\u001b[0m \u001b[39m    :param url: URL for the new :class:`Request` object.\u001b[39;00m\n\u001b[1;32m   (...)\u001b[0m\n\u001b[0;32m    112\u001b[0m \u001b[39m    :rtype: requests.Response\u001b[39;00m\n\u001b[0;32m    113\u001b[0m \u001b[39m    \"\"\"\u001b[39;00m\n\u001b[1;32m--> 115\u001b[0m     \u001b[39mreturn\u001b[39;00m request(\u001b[39m\"\u001b[39;49m\u001b[39mpost\u001b[39;49m\u001b[39m\"\u001b[39;49m, url, data\u001b[39m=\u001b[39;49mdata, json\u001b[39m=\u001b[39;49mjson, \u001b[39m*\u001b[39;49m\u001b[39m*\u001b[39;49mkwargs)\n",
      "File \u001b[1;32m~\\AppData\\Roaming\\Python\\Python311\\site-packages\\requests\\api.py:59\u001b[0m, in \u001b[0;36mrequest\u001b[1;34m(method, url, **kwargs)\u001b[0m\n\u001b[0;32m     55\u001b[0m \u001b[39m# By using the 'with' statement we are sure the session is closed, thus we\u001b[39;00m\n\u001b[0;32m     56\u001b[0m \u001b[39m# avoid leaving sockets open which can trigger a ResourceWarning in some\u001b[39;00m\n\u001b[0;32m     57\u001b[0m \u001b[39m# cases, and look like a memory leak in others.\u001b[39;00m\n\u001b[0;32m     58\u001b[0m \u001b[39mwith\u001b[39;00m sessions\u001b[39m.\u001b[39mSession() \u001b[39mas\u001b[39;00m session:\n\u001b[1;32m---> 59\u001b[0m     \u001b[39mreturn\u001b[39;00m session\u001b[39m.\u001b[39;49mrequest(method\u001b[39m=\u001b[39;49mmethod, url\u001b[39m=\u001b[39;49murl, \u001b[39m*\u001b[39;49m\u001b[39m*\u001b[39;49mkwargs)\n",
      "File \u001b[1;32m~\\AppData\\Roaming\\Python\\Python311\\site-packages\\requests\\sessions.py:589\u001b[0m, in \u001b[0;36mSession.request\u001b[1;34m(self, method, url, params, data, headers, cookies, files, auth, timeout, allow_redirects, proxies, hooks, stream, verify, cert, json)\u001b[0m\n\u001b[0;32m    584\u001b[0m send_kwargs \u001b[39m=\u001b[39m {\n\u001b[0;32m    585\u001b[0m     \u001b[39m\"\u001b[39m\u001b[39mtimeout\u001b[39m\u001b[39m\"\u001b[39m: timeout,\n\u001b[0;32m    586\u001b[0m     \u001b[39m\"\u001b[39m\u001b[39mallow_redirects\u001b[39m\u001b[39m\"\u001b[39m: allow_redirects,\n\u001b[0;32m    587\u001b[0m }\n\u001b[0;32m    588\u001b[0m send_kwargs\u001b[39m.\u001b[39mupdate(settings)\n\u001b[1;32m--> 589\u001b[0m resp \u001b[39m=\u001b[39m \u001b[39mself\u001b[39;49m\u001b[39m.\u001b[39;49msend(prep, \u001b[39m*\u001b[39;49m\u001b[39m*\u001b[39;49msend_kwargs)\n\u001b[0;32m    591\u001b[0m \u001b[39mreturn\u001b[39;00m resp\n",
      "File \u001b[1;32m~\\AppData\\Roaming\\Python\\Python311\\site-packages\\requests\\sessions.py:703\u001b[0m, in \u001b[0;36mSession.send\u001b[1;34m(self, request, **kwargs)\u001b[0m\n\u001b[0;32m    700\u001b[0m start \u001b[39m=\u001b[39m preferred_clock()\n\u001b[0;32m    702\u001b[0m \u001b[39m# Send the request\u001b[39;00m\n\u001b[1;32m--> 703\u001b[0m r \u001b[39m=\u001b[39m adapter\u001b[39m.\u001b[39;49msend(request, \u001b[39m*\u001b[39;49m\u001b[39m*\u001b[39;49mkwargs)\n\u001b[0;32m    705\u001b[0m \u001b[39m# Total elapsed time of the request (approximately)\u001b[39;00m\n\u001b[0;32m    706\u001b[0m elapsed \u001b[39m=\u001b[39m preferred_clock() \u001b[39m-\u001b[39m start\n",
      "File \u001b[1;32m~\\AppData\\Roaming\\Python\\Python311\\site-packages\\requests\\adapters.py:486\u001b[0m, in \u001b[0;36mHTTPAdapter.send\u001b[1;34m(self, request, stream, timeout, verify, cert, proxies)\u001b[0m\n\u001b[0;32m    483\u001b[0m     timeout \u001b[39m=\u001b[39m TimeoutSauce(connect\u001b[39m=\u001b[39mtimeout, read\u001b[39m=\u001b[39mtimeout)\n\u001b[0;32m    485\u001b[0m \u001b[39mtry\u001b[39;00m:\n\u001b[1;32m--> 486\u001b[0m     resp \u001b[39m=\u001b[39m conn\u001b[39m.\u001b[39;49murlopen(\n\u001b[0;32m    487\u001b[0m         method\u001b[39m=\u001b[39;49mrequest\u001b[39m.\u001b[39;49mmethod,\n\u001b[0;32m    488\u001b[0m         url\u001b[39m=\u001b[39;49murl,\n\u001b[0;32m    489\u001b[0m         body\u001b[39m=\u001b[39;49mrequest\u001b[39m.\u001b[39;49mbody,\n\u001b[0;32m    490\u001b[0m         headers\u001b[39m=\u001b[39;49mrequest\u001b[39m.\u001b[39;49mheaders,\n\u001b[0;32m    491\u001b[0m         redirect\u001b[39m=\u001b[39;49m\u001b[39mFalse\u001b[39;49;00m,\n\u001b[0;32m    492\u001b[0m         assert_same_host\u001b[39m=\u001b[39;49m\u001b[39mFalse\u001b[39;49;00m,\n\u001b[0;32m    493\u001b[0m         preload_content\u001b[39m=\u001b[39;49m\u001b[39mFalse\u001b[39;49;00m,\n\u001b[0;32m    494\u001b[0m         decode_content\u001b[39m=\u001b[39;49m\u001b[39mFalse\u001b[39;49;00m,\n\u001b[0;32m    495\u001b[0m         retries\u001b[39m=\u001b[39;49m\u001b[39mself\u001b[39;49m\u001b[39m.\u001b[39;49mmax_retries,\n\u001b[0;32m    496\u001b[0m         timeout\u001b[39m=\u001b[39;49mtimeout,\n\u001b[0;32m    497\u001b[0m         chunked\u001b[39m=\u001b[39;49mchunked,\n\u001b[0;32m    498\u001b[0m     )\n\u001b[0;32m    500\u001b[0m \u001b[39mexcept\u001b[39;00m (ProtocolError, \u001b[39mOSError\u001b[39;00m) \u001b[39mas\u001b[39;00m err:\n\u001b[0;32m    501\u001b[0m     \u001b[39mraise\u001b[39;00m \u001b[39mConnectionError\u001b[39;00m(err, request\u001b[39m=\u001b[39mrequest)\n",
      "File \u001b[1;32m~\\AppData\\Roaming\\Python\\Python311\\site-packages\\urllib3\\connectionpool.py:790\u001b[0m, in \u001b[0;36mHTTPConnectionPool.urlopen\u001b[1;34m(self, method, url, body, headers, retries, redirect, assert_same_host, timeout, pool_timeout, release_conn, chunked, body_pos, preload_content, decode_content, **response_kw)\u001b[0m\n\u001b[0;32m    787\u001b[0m response_conn \u001b[39m=\u001b[39m conn \u001b[39mif\u001b[39;00m \u001b[39mnot\u001b[39;00m release_conn \u001b[39melse\u001b[39;00m \u001b[39mNone\u001b[39;00m\n\u001b[0;32m    789\u001b[0m \u001b[39m# Make the request on the HTTPConnection object\u001b[39;00m\n\u001b[1;32m--> 790\u001b[0m response \u001b[39m=\u001b[39m \u001b[39mself\u001b[39;49m\u001b[39m.\u001b[39;49m_make_request(\n\u001b[0;32m    791\u001b[0m     conn,\n\u001b[0;32m    792\u001b[0m     method,\n\u001b[0;32m    793\u001b[0m     url,\n\u001b[0;32m    794\u001b[0m     timeout\u001b[39m=\u001b[39;49mtimeout_obj,\n\u001b[0;32m    795\u001b[0m     body\u001b[39m=\u001b[39;49mbody,\n\u001b[0;32m    796\u001b[0m     headers\u001b[39m=\u001b[39;49mheaders,\n\u001b[0;32m    797\u001b[0m     chunked\u001b[39m=\u001b[39;49mchunked,\n\u001b[0;32m    798\u001b[0m     retries\u001b[39m=\u001b[39;49mretries,\n\u001b[0;32m    799\u001b[0m     response_conn\u001b[39m=\u001b[39;49mresponse_conn,\n\u001b[0;32m    800\u001b[0m     preload_content\u001b[39m=\u001b[39;49mpreload_content,\n\u001b[0;32m    801\u001b[0m     decode_content\u001b[39m=\u001b[39;49mdecode_content,\n\u001b[0;32m    802\u001b[0m     \u001b[39m*\u001b[39;49m\u001b[39m*\u001b[39;49mresponse_kw,\n\u001b[0;32m    803\u001b[0m )\n\u001b[0;32m    805\u001b[0m \u001b[39m# Everything went great!\u001b[39;00m\n\u001b[0;32m    806\u001b[0m clean_exit \u001b[39m=\u001b[39m \u001b[39mTrue\u001b[39;00m\n",
      "File \u001b[1;32m~\\AppData\\Roaming\\Python\\Python311\\site-packages\\urllib3\\connectionpool.py:496\u001b[0m, in \u001b[0;36mHTTPConnectionPool._make_request\u001b[1;34m(self, conn, method, url, body, headers, retries, timeout, chunked, response_conn, preload_content, decode_content, enforce_content_length)\u001b[0m\n\u001b[0;32m    493\u001b[0m \u001b[39m# conn.request() calls http.client.*.request, not the method in\u001b[39;00m\n\u001b[0;32m    494\u001b[0m \u001b[39m# urllib3.request. It also calls makefile (recv) on the socket.\u001b[39;00m\n\u001b[0;32m    495\u001b[0m \u001b[39mtry\u001b[39;00m:\n\u001b[1;32m--> 496\u001b[0m     conn\u001b[39m.\u001b[39;49mrequest(\n\u001b[0;32m    497\u001b[0m         method,\n\u001b[0;32m    498\u001b[0m         url,\n\u001b[0;32m    499\u001b[0m         body\u001b[39m=\u001b[39;49mbody,\n\u001b[0;32m    500\u001b[0m         headers\u001b[39m=\u001b[39;49mheaders,\n\u001b[0;32m    501\u001b[0m         chunked\u001b[39m=\u001b[39;49mchunked,\n\u001b[0;32m    502\u001b[0m         preload_content\u001b[39m=\u001b[39;49mpreload_content,\n\u001b[0;32m    503\u001b[0m         decode_content\u001b[39m=\u001b[39;49mdecode_content,\n\u001b[0;32m    504\u001b[0m         enforce_content_length\u001b[39m=\u001b[39;49menforce_content_length,\n\u001b[0;32m    505\u001b[0m     )\n\u001b[0;32m    507\u001b[0m \u001b[39m# We are swallowing BrokenPipeError (errno.EPIPE) since the server is\u001b[39;00m\n\u001b[0;32m    508\u001b[0m \u001b[39m# legitimately able to close the connection after sending a valid response.\u001b[39;00m\n\u001b[0;32m    509\u001b[0m \u001b[39m# With this behaviour, the received response is still readable.\u001b[39;00m\n\u001b[0;32m    510\u001b[0m \u001b[39mexcept\u001b[39;00m \u001b[39mBrokenPipeError\u001b[39;00m:\n",
      "File \u001b[1;32m~\\AppData\\Roaming\\Python\\Python311\\site-packages\\urllib3\\connection.py:395\u001b[0m, in \u001b[0;36mHTTPConnection.request\u001b[1;34m(self, method, url, body, headers, chunked, preload_content, decode_content, enforce_content_length)\u001b[0m\n\u001b[0;32m    393\u001b[0m \u001b[39mfor\u001b[39;00m header, value \u001b[39min\u001b[39;00m headers\u001b[39m.\u001b[39mitems():\n\u001b[0;32m    394\u001b[0m     \u001b[39mself\u001b[39m\u001b[39m.\u001b[39mputheader(header, value)\n\u001b[1;32m--> 395\u001b[0m \u001b[39mself\u001b[39;49m\u001b[39m.\u001b[39;49mendheaders()\n\u001b[0;32m    397\u001b[0m \u001b[39m# If we're given a body we start sending that in chunks.\u001b[39;00m\n\u001b[0;32m    398\u001b[0m \u001b[39mif\u001b[39;00m chunks \u001b[39mis\u001b[39;00m \u001b[39mnot\u001b[39;00m \u001b[39mNone\u001b[39;00m:\n",
      "File \u001b[1;32mc:\\Users\\intern_dx23\\AppData\\Local\\Programs\\Python\\Python311\\Lib\\http\\client.py:1289\u001b[0m, in \u001b[0;36mHTTPConnection.endheaders\u001b[1;34m(self, message_body, encode_chunked)\u001b[0m\n\u001b[0;32m   1287\u001b[0m \u001b[39melse\u001b[39;00m:\n\u001b[0;32m   1288\u001b[0m     \u001b[39mraise\u001b[39;00m CannotSendHeader()\n\u001b[1;32m-> 1289\u001b[0m \u001b[39mself\u001b[39;49m\u001b[39m.\u001b[39;49m_send_output(message_body, encode_chunked\u001b[39m=\u001b[39;49mencode_chunked)\n",
      "File \u001b[1;32mc:\\Users\\intern_dx23\\AppData\\Local\\Programs\\Python\\Python311\\Lib\\http\\client.py:1048\u001b[0m, in \u001b[0;36mHTTPConnection._send_output\u001b[1;34m(self, message_body, encode_chunked)\u001b[0m\n\u001b[0;32m   1046\u001b[0m msg \u001b[39m=\u001b[39m \u001b[39mb\u001b[39m\u001b[39m\"\u001b[39m\u001b[39m\\r\u001b[39;00m\u001b[39m\\n\u001b[39;00m\u001b[39m\"\u001b[39m\u001b[39m.\u001b[39mjoin(\u001b[39mself\u001b[39m\u001b[39m.\u001b[39m_buffer)\n\u001b[0;32m   1047\u001b[0m \u001b[39mdel\u001b[39;00m \u001b[39mself\u001b[39m\u001b[39m.\u001b[39m_buffer[:]\n\u001b[1;32m-> 1048\u001b[0m \u001b[39mself\u001b[39;49m\u001b[39m.\u001b[39;49msend(msg)\n\u001b[0;32m   1050\u001b[0m \u001b[39mif\u001b[39;00m message_body \u001b[39mis\u001b[39;00m \u001b[39mnot\u001b[39;00m \u001b[39mNone\u001b[39;00m:\n\u001b[0;32m   1051\u001b[0m \n\u001b[0;32m   1052\u001b[0m     \u001b[39m# create a consistent interface to message_body\u001b[39;00m\n\u001b[0;32m   1053\u001b[0m     \u001b[39mif\u001b[39;00m \u001b[39mhasattr\u001b[39m(message_body, \u001b[39m'\u001b[39m\u001b[39mread\u001b[39m\u001b[39m'\u001b[39m):\n\u001b[0;32m   1054\u001b[0m         \u001b[39m# Let file-like take precedence over byte-like.  This\u001b[39;00m\n\u001b[0;32m   1055\u001b[0m         \u001b[39m# is needed to allow the current position of mmap'ed\u001b[39;00m\n\u001b[0;32m   1056\u001b[0m         \u001b[39m# files to be taken into account.\u001b[39;00m\n",
      "File \u001b[1;32mc:\\Users\\intern_dx23\\AppData\\Local\\Programs\\Python\\Python311\\Lib\\http\\client.py:986\u001b[0m, in \u001b[0;36mHTTPConnection.send\u001b[1;34m(self, data)\u001b[0m\n\u001b[0;32m    984\u001b[0m \u001b[39mif\u001b[39;00m \u001b[39mself\u001b[39m\u001b[39m.\u001b[39msock \u001b[39mis\u001b[39;00m \u001b[39mNone\u001b[39;00m:\n\u001b[0;32m    985\u001b[0m     \u001b[39mif\u001b[39;00m \u001b[39mself\u001b[39m\u001b[39m.\u001b[39mauto_open:\n\u001b[1;32m--> 986\u001b[0m         \u001b[39mself\u001b[39;49m\u001b[39m.\u001b[39;49mconnect()\n\u001b[0;32m    987\u001b[0m     \u001b[39melse\u001b[39;00m:\n\u001b[0;32m    988\u001b[0m         \u001b[39mraise\u001b[39;00m NotConnected()\n",
      "File \u001b[1;32m~\\AppData\\Roaming\\Python\\Python311\\site-packages\\urllib3\\connection.py:243\u001b[0m, in \u001b[0;36mHTTPConnection.connect\u001b[1;34m(self)\u001b[0m\n\u001b[0;32m    242\u001b[0m \u001b[39mdef\u001b[39;00m \u001b[39mconnect\u001b[39m(\u001b[39mself\u001b[39m) \u001b[39m-\u001b[39m\u001b[39m>\u001b[39m \u001b[39mNone\u001b[39;00m:\n\u001b[1;32m--> 243\u001b[0m     \u001b[39mself\u001b[39m\u001b[39m.\u001b[39msock \u001b[39m=\u001b[39m \u001b[39mself\u001b[39;49m\u001b[39m.\u001b[39;49m_new_conn()\n\u001b[0;32m    244\u001b[0m     \u001b[39mif\u001b[39;00m \u001b[39mself\u001b[39m\u001b[39m.\u001b[39m_tunnel_host:\n\u001b[0;32m    245\u001b[0m         \u001b[39m# If we're tunneling it means we're connected to our proxy.\u001b[39;00m\n\u001b[0;32m    246\u001b[0m         \u001b[39mself\u001b[39m\u001b[39m.\u001b[39m_has_connected_to_proxy \u001b[39m=\u001b[39m \u001b[39mTrue\u001b[39;00m\n",
      "File \u001b[1;32m~\\AppData\\Roaming\\Python\\Python311\\site-packages\\urllib3\\connection.py:203\u001b[0m, in \u001b[0;36mHTTPConnection._new_conn\u001b[1;34m(self)\u001b[0m\n\u001b[0;32m    198\u001b[0m \u001b[39m\u001b[39m\u001b[39m\"\"\"Establish a socket connection and set nodelay settings on it.\u001b[39;00m\n\u001b[0;32m    199\u001b[0m \n\u001b[0;32m    200\u001b[0m \u001b[39m:return: New socket connection.\u001b[39;00m\n\u001b[0;32m    201\u001b[0m \u001b[39m\"\"\"\u001b[39;00m\n\u001b[0;32m    202\u001b[0m \u001b[39mtry\u001b[39;00m:\n\u001b[1;32m--> 203\u001b[0m     sock \u001b[39m=\u001b[39m connection\u001b[39m.\u001b[39;49mcreate_connection(\n\u001b[0;32m    204\u001b[0m         (\u001b[39mself\u001b[39;49m\u001b[39m.\u001b[39;49m_dns_host, \u001b[39mself\u001b[39;49m\u001b[39m.\u001b[39;49mport),\n\u001b[0;32m    205\u001b[0m         \u001b[39mself\u001b[39;49m\u001b[39m.\u001b[39;49mtimeout,\n\u001b[0;32m    206\u001b[0m         source_address\u001b[39m=\u001b[39;49m\u001b[39mself\u001b[39;49m\u001b[39m.\u001b[39;49msource_address,\n\u001b[0;32m    207\u001b[0m         socket_options\u001b[39m=\u001b[39;49m\u001b[39mself\u001b[39;49m\u001b[39m.\u001b[39;49msocket_options,\n\u001b[0;32m    208\u001b[0m     )\n\u001b[0;32m    209\u001b[0m \u001b[39mexcept\u001b[39;00m socket\u001b[39m.\u001b[39mgaierror \u001b[39mas\u001b[39;00m e:\n\u001b[0;32m    210\u001b[0m     \u001b[39mraise\u001b[39;00m NameResolutionError(\u001b[39mself\u001b[39m\u001b[39m.\u001b[39mhost, \u001b[39mself\u001b[39m, e) \u001b[39mfrom\u001b[39;00m \u001b[39me\u001b[39;00m\n",
      "File \u001b[1;32m~\\AppData\\Roaming\\Python\\Python311\\site-packages\\urllib3\\util\\connection.py:81\u001b[0m, in \u001b[0;36mcreate_connection\u001b[1;34m(address, timeout, source_address, socket_options)\u001b[0m\n\u001b[0;32m     79\u001b[0m         err \u001b[39m=\u001b[39m _\n\u001b[0;32m     80\u001b[0m         \u001b[39mif\u001b[39;00m sock \u001b[39mis\u001b[39;00m \u001b[39mnot\u001b[39;00m \u001b[39mNone\u001b[39;00m:\n\u001b[1;32m---> 81\u001b[0m             sock\u001b[39m.\u001b[39;49mclose()\n\u001b[0;32m     83\u001b[0m \u001b[39mif\u001b[39;00m err \u001b[39mis\u001b[39;00m \u001b[39mnot\u001b[39;00m \u001b[39mNone\u001b[39;00m:\n\u001b[0;32m     84\u001b[0m     \u001b[39mtry\u001b[39;00m:\n",
      "File \u001b[1;32mc:\\Users\\intern_dx23\\AppData\\Local\\Programs\\Python\\Python311\\Lib\\socket.py:499\u001b[0m, in \u001b[0;36msocket.close\u001b[1;34m(self)\u001b[0m\n\u001b[0;32m    495\u001b[0m \u001b[39mdef\u001b[39;00m \u001b[39m_real_close\u001b[39m(\u001b[39mself\u001b[39m, _ss\u001b[39m=\u001b[39m_socket\u001b[39m.\u001b[39msocket):\n\u001b[0;32m    496\u001b[0m     \u001b[39m# This function should not reference any globals. See issue #808164.\u001b[39;00m\n\u001b[0;32m    497\u001b[0m     _ss\u001b[39m.\u001b[39mclose(\u001b[39mself\u001b[39m)\n\u001b[1;32m--> 499\u001b[0m \u001b[39mdef\u001b[39;00m \u001b[39mclose\u001b[39m(\u001b[39mself\u001b[39m):\n\u001b[0;32m    500\u001b[0m     \u001b[39m# This function should not reference any globals. See issue #808164.\u001b[39;00m\n\u001b[0;32m    501\u001b[0m     \u001b[39mself\u001b[39m\u001b[39m.\u001b[39m_closed \u001b[39m=\u001b[39m \u001b[39mTrue\u001b[39;00m\n\u001b[0;32m    502\u001b[0m     \u001b[39mif\u001b[39;00m \u001b[39mself\u001b[39m\u001b[39m.\u001b[39m_io_refs \u001b[39m<\u001b[39m\u001b[39m=\u001b[39m \u001b[39m0\u001b[39m:\n",
      "\u001b[1;31mKeyboardInterrupt\u001b[0m: "
     ]
    }
   ],
   "source": []
  },
  {
   "cell_type": "code",
   "execution_count": null,
   "metadata": {},
   "outputs": [],
   "source": []
  }
 ],
 "metadata": {
  "kernelspec": {
   "display_name": "Python 3.11.7 64-bit",
   "language": "python",
   "name": "python3"
  },
  "language_info": {
   "codemirror_mode": {
    "name": "ipython",
    "version": 3
   },
   "file_extension": ".py",
   "mimetype": "text/x-python",
   "name": "python",
   "nbconvert_exporter": "python",
   "pygments_lexer": "ipython3",
   "version": "3.11.7"
  },
  "orig_nbformat": 4,
  "vscode": {
   "interpreter": {
    "hash": "ebb1fce3030b29fe830cafe852b75508e70531fc9b401eda00fee2518c8f9105"
   }
  }
 },
 "nbformat": 4,
 "nbformat_minor": 2
}
