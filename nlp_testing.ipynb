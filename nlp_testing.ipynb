{
 "cells": [
  {
   "cell_type": "code",
   "execution_count": 2,
   "metadata": {},
   "outputs": [],
   "source": [
    "from langchain.llms import Ollama\n",
    "\n"
   ]
  },
  {
   "cell_type": "code",
   "execution_count": 3,
   "metadata": {},
   "outputs": [],
   "source": [
    "from langchain.callbacks.manager import CallbackManager\n",
    "\n",
    "from langchain.callbacks.streaming_stdout import StreamingStdOutCallbackHandler                                  \n"
   ]
  },
  {
   "cell_type": "code",
   "execution_count": 22,
   "metadata": {},
   "outputs": [],
   "source": [
    "llm = Ollama(base_url='http://172.17.226.116:11434',\n",
    "model=\"orca-mini:3b\",temperature=0.5,\n",
    "callback_manager = CallbackManager([StreamingStdOutCallbackHandler()]))"
   ]
  },
  {
   "cell_type": "markdown",
   "metadata": {},
   "source": [
    "Results for basic NLP process"
   ]
  },
  {
   "cell_type": "code",
   "execution_count": 5,
   "metadata": {},
   "outputs": [
    {
     "name": "stdout",
     "output_type": "stream",
     "text": [
      " Formal: \n",
      "\"¿Eres estudiante o trabajador?\" (student or worker)\n",
      "\"No puedo decidir el tema que preocupa, solo la persona que tenga el tema que cuidar. Así es nuestro proceso en julia y méxico\"\n",
      "\n",
      "Formal\n",
      "Fecha de entrega: \"Todos los productos están registrados para conducir consejeria de autos. Todas las tiendas ofrece rastreador con los recaudos de fondo\" (I am delivering all products, I hope they work properly. All car parts, you can get information about car repairs, and the discount for the frontal and front loaders in the stores) \n",
      "\n",
      "informal:\n",
      "¿A qué hora anda usted? (to what time is it?) - informal form \n",
      "\"Me gusta la música rock\" (I like rock music.)"
     ]
    },
    {
     "data": {
      "text/plain": [
       "' Formal: \\n\"¿Eres estudiante o trabajador?\" (student or worker)\\n\"No puedo decidir el tema que preocupa, solo la persona que tenga el tema que cuidar. Así es nuestro proceso en julia y méxico\"\\n\\nFormal\\nFecha de entrega: \"Todos los productos están registrados para conducir consejeria de autos. Todas las tiendas ofrece rastreador con los recaudos de fondo\" (I am delivering all products, I hope they work properly. All car parts, you can get information about car repairs, and the discount for the frontal and front loaders in the stores) \\n\\ninformal:\\n¿A qué hora anda usted? (to what time is it?) - informal form \\n\"Me gusta la música rock\" (I like rock music.)'"
      ]
     },
     "execution_count": 5,
     "metadata": {},
     "output_type": "execute_result"
    }
   ],
   "source": [
    "#testing3\n",
    "text='Would you like to order a pillow?'\n",
    "llm(\n",
    "    \"\"\"\n",
    "Translate the following text to Spanish in both the \\\n",
    "formal and informal forms: \n",
    "```{text}```\n",
    "\"\"\"\n",
    "   )"
   ]
  },
  {
   "cell_type": "code",
   "execution_count": 6,
   "metadata": {},
   "outputs": [
    {
     "name": "stdout",
     "output_type": "stream",
     "text": [
      " The language used in the sentence is French."
     ]
    },
    {
     "data": {
      "text/plain": [
       "' The language used in the sentence is French.'"
      ]
     },
     "execution_count": 6,
     "metadata": {},
     "output_type": "execute_result"
    }
   ],
   "source": [
    "llm(\"\"\"\n",
    "Tell me which language this is: \n",
    "```Combien coûte le lampadaire?```\n",
    "\"\"\")"
   ]
  },
  {
   "cell_type": "code",
   "execution_count": 7,
   "metadata": {},
   "outputs": [
    {
     "name": "stdout",
     "output_type": "stream",
     "text": [
      " I'm sorry, but as an AI language model, I do not have the ability to directly translate from one programming language to another or create HTML tables. However, I can provide a translation of the given Python dictionary to JSON format. Here is an example:\n",
      "\n",
      "```json\n",
      "{\n",
      " \"data\": {\n",
      " \"category\": \"Cars\",\n",
      " \"subcategory\": \"Drivable\",\n",
      " \"price\": 35000,\n",
      " \"color\": \"Black\"\n",
      " }\n",
      "}\n",
      "```\n",
      "\n",
      "Then, to create the HTML table with column headers and title, you can use a template engine such as Liquid or Mustache. Here's an example using the Liquid syntax:\n",
      "\n",
      "```html\n",
      "<table>\n",
      " <thead>\n",
      " <tr>\n",
      " <th>#</th>\n",
      " <th>Category</th>\n",
      " <th>Subcategory</th>\n",
      " <th>Price</th>\n",
      " <th>Color</th>\n",
      " </tr>\n",
      " </thead>\n",
      " <tbody>\n",
      " <row data=\"data\" modifier=\"field_with_items\">\n",
      " <cell>1</cell>\n",
      " <cell>Cars</cell>\n",
      " <cell>Drivable</cell>\n",
      " <cell>35000</cell>\n",
      " <cell>Black</cell>\n",
      " </row>\n",
      " </tbody>\n",
      "</table>\n",
      "```\n",
      "\n",
      "In this example, we create a table with four columns and assign data to each column as an attribute using the `data` attribute in Liquid syntax. We then loop through the data using the `modifier` parameter in Liquid syntax, creating rows dynamically by calling the appropriate `<cell>` tag for each column."
     ]
    },
    {
     "data": {
      "text/plain": [
       "' I\\'m sorry, but as an AI language model, I do not have the ability to directly translate from one programming language to another or create HTML tables. However, I can provide a translation of the given Python dictionary to JSON format. Here is an example:\\n\\n```json\\n{\\n \"data\": {\\n \"category\": \"Cars\",\\n \"subcategory\": \"Drivable\",\\n \"price\": 35000,\\n \"color\": \"Black\"\\n }\\n}\\n```\\n\\nThen, to create the HTML table with column headers and title, you can use a template engine such as Liquid or Mustache. Here\\'s an example using the Liquid syntax:\\n\\n```html\\n<table>\\n <thead>\\n <tr>\\n <th>#</th>\\n <th>Category</th>\\n <th>Subcategory</th>\\n <th>Price</th>\\n <th>Color</th>\\n </tr>\\n </thead>\\n <tbody>\\n <row data=\"data\" modifier=\"field_with_items\">\\n <cell>1</cell>\\n <cell>Cars</cell>\\n <cell>Drivable</cell>\\n <cell>35000</cell>\\n <cell>Black</cell>\\n </row>\\n </tbody>\\n</table>\\n```\\n\\nIn this example, we create a table with four columns and assign data to each column as an attribute using the `data` attribute in Liquid syntax. We then loop through the data using the `modifier` parameter in Liquid syntax, creating rows dynamically by calling the appropriate `<cell>` tag for each column.'"
      ]
     },
     "execution_count": 7,
     "metadata": {},
     "output_type": "execute_result"
    }
   ],
   "source": [
    "data_json = { \"resturant employees\" :[ \n",
    "    {\"name\":\"Shyam\", \"email\":\"shyamjaiswal@gmail.com\"},\n",
    "    {\"name\":\"Bob\", \"email\":\"bob32@gmail.com\"},\n",
    "    {\"name\":\"Jai\", \"email\":\"jai87@gmail.com\"}\n",
    "]}\n",
    "\n",
    "llm(\"\"\"\n",
    "Translate the following python dictionary from JSON to an HTML \\\n",
    "table with column headers and title: {data_json}\n",
    "\"\"\")"
   ]
  },
  {
   "cell_type": "code",
   "execution_count": 34,
   "metadata": {},
   "outputs": [
    {
     "name": "stdout",
     "output_type": "stream",
     "text": [
      " Hello! I'm the chat assistant for Elgi. Let me help you with your questions.\n",
      "\n",
      "Regarding Confirmation Checkpoint Procedure, it is a process that is carried out to ensure that the system is working as expected and meets the requirements. It involves testing the system at various stages of development to ensure that it is functioning correctly.\n",
      "\n",
      "As for the Root cause for the Symptom \"Database connection failures\", it can vary depending on the specific scenario. Some common reasons include network connectivity issues, database configuration errors, or issues with the database driver. The exact root cause will depend on the specific situation and may require further investigation to determine the underlying issue. It is important to identify and address the root cause in order to resolve the issue and prevent it from occurring again in the future."
     ]
    },
    {
     "data": {
      "text/plain": [
       "' Hello! I\\'m the chat assistant for Elgi. Let me help you with your questions.\\n\\nRegarding Confirmation Checkpoint Procedure, it is a process that is carried out to ensure that the system is working as expected and meets the requirements. It involves testing the system at various stages of development to ensure that it is functioning correctly.\\n\\nAs for the Root cause for the Symptom \"Database connection failures\", it can vary depending on the specific scenario. Some common reasons include network connectivity issues, database configuration errors, or issues with the database driver. The exact root cause will depend on the specific situation and may require further investigation to determine the underlying issue. It is important to identify and address the root cause in order to resolve the issue and prevent it from occurring again in the future.'"
      ]
     },
     "execution_count": 34,
     "metadata": {},
     "output_type": "execute_result"
    }
   ],
   "source": []
  },
  {
   "cell_type": "code",
   "execution_count": 23,
   "metadata": {},
   "outputs": [
    {
     "name": "stdout",
     "output_type": "stream",
     "text": [
      " The shortcut for inserting a keyframe in Blender is I."
     ]
    },
    {
     "data": {
      "text/plain": [
       "' The shortcut for inserting a keyframe in Blender is I.'"
      ]
     },
     "execution_count": 23,
     "metadata": {},
     "output_type": "execute_result"
    }
   ],
   "source": [
    "#Added extra shortcuts and got output for a value\n",
    "table=\"\"\"\n",
    "        Table: Shortcut keys for blender\n",
    "\n",
    "| Functions                              | Shortcut_keys      |                                                                            \n",
    "|--------------------------------------- |--------------------|\n",
    "| Insert a keyframe.                     | I                  | \n",
    "| select all                             | A                  | \n",
    "| Copy the (single) value of the button  |Ctrl-C              | \n",
    "| Clear the driver                       |Ctrl-Alt-D          | \n",
    "\n",
    "i\n",
    "\"\"\"\n",
    "llm(f\"\"\"\n",
    " the User asks you for information on a topic which is not related to 3d modelling shortcuts reply with the following :\\\n",
    "        \"Sorry! I am the assistant for Elgi Equipments. However, While my main expertise is to assist you \n",
    "        with queries related to Elgi, I suggest you to browse the internet for some videos \n",
    "        or websites which can help you out with that\".\\\n",
    "        answer the user in short and answer what is wanted \\\n",
    "        You respond in a short, very conversational friendly style\\\n",
    "        the information about the blender shortcuts includes:\n",
    " an automated service to collect input from the user and provide information related to input,\\\n",
    "        Learn the Table given below:\n",
    "        {table}\n",
    "    Answer to user based on the table: \n",
    "    what is the shortcut for insert a keyframe?\"\"\")"
   ]
  },
  {
   "cell_type": "code",
   "execution_count": 24,
   "metadata": {},
   "outputs": [
    {
     "name": "stdout",
     "output_type": "stream",
     "text": [
      " The shortcut to clear the driver in Elgi Equipments Blender is Ctrl-Alt-D."
     ]
    },
    {
     "data": {
      "text/plain": [
       "' The shortcut to clear the driver in Elgi Equipments Blender is Ctrl-Alt-D.'"
      ]
     },
     "execution_count": 24,
     "metadata": {},
     "output_type": "execute_result"
    }
   ],
   "source": [
    "#Added extra shortcuts and got output for a value\n",
    "table=\"\"\"\n",
    "        Table: Shortcut keys for blender\n",
    "\n",
    "| Functions                              | Shortcut_keys      |                                                                            \n",
    "|--------------------------------------- |--------------------|\n",
    "| Insert a keyframe.                     | I                  | \n",
    "| select all                             | A                  | \n",
    "| Copy the (single) value of the button  |Ctrl-C              | \n",
    "| Clear the driver                       |Ctrl-Alt-D          | \n",
    "\n",
    "i\n",
    "\"\"\"\n",
    "llm(f\"\"\"\n",
    " the User asks you for information on a topic which is not related to 3d modelling shortcuts reply with the following :\\\n",
    "        \"Sorry! I am the assistant for Elgi Equipments. However, While my main expertise is to assist you \n",
    "        with queries related to Elgi, I suggest you to browse the internet for some videos \n",
    "        or websites which can help you out with that\".\\\n",
    "        answer the user in short and answer what is wanted \\\n",
    "        You respond in a short, very conversational friendly style\\\n",
    "        the information about the blender shortcuts includes:\n",
    " an automated service to collect input from the user and provide information related to input,\\\n",
    "        Learn the Table given below:\n",
    "        {table}\n",
    "    Answer to user based on the table: \n",
    "    what is the shortcut to clear the driver?\"\"\")"
   ]
  },
  {
   "cell_type": "code",
   "execution_count": 25,
   "metadata": {},
   "outputs": [
    {
     "name": "stdout",
     "output_type": "stream",
     "text": [
      " The shortcut to select all in Elgi Equipments is A."
     ]
    },
    {
     "data": {
      "text/plain": [
       "' The shortcut to select all in Elgi Equipments is A.'"
      ]
     },
     "execution_count": 25,
     "metadata": {},
     "output_type": "execute_result"
    }
   ],
   "source": [
    "#Added extra shortcuts and got output for a value\n",
    "table=\"\"\"\n",
    "        Table: Shortcut keys for blender\n",
    "\n",
    "| Functions                              | Shortcut_keys      |                                                                            \n",
    "|--------------------------------------- |--------------------|\n",
    "| Insert a keyframe.                     | I                  | \n",
    "| select all                             | A                  | \n",
    "| Copy the (single) value of the button  |Ctrl-C              | \n",
    "| Clear the driver                       |Ctrl-Alt-D          | \n",
    "\n",
    "i\n",
    "\"\"\"\n",
    "llm(f\"\"\"\n",
    " the User asks you for information on a topic which is not related to 3d modelling shortcuts reply with the following :\\\n",
    "        \"Sorry! I am the assistant for Elgi Equipments. However, While my main expertise is to assist you \n",
    "        with queries related to Elgi, I suggest you to browse the internet for some videos \n",
    "        or websites which can help you out with that\".\\\n",
    "        answer the user in short and answer what is wanted \\\n",
    "        You respond in a short, very conversational friendly style\\\n",
    "        the information about the blender shortcuts includes:\n",
    " an automated service to collect input from the user and provide information related to input,\\\n",
    "        Learn the Table given below:\n",
    "        {table}\n",
    "    Answer to user based on the table: \n",
    "    what is the shortcut to select all?\"\"\")"
   ]
  },
  {
   "cell_type": "code",
   "execution_count": 26,
   "metadata": {},
   "outputs": [
    {
     "name": "stdout",
     "output_type": "stream",
     "text": [
      " The shortcut key for copying the (single) value of the button is Ctrl+C."
     ]
    },
    {
     "data": {
      "text/plain": [
       "' The shortcut key for copying the (single) value of the button is Ctrl+C.'"
      ]
     },
     "execution_count": 26,
     "metadata": {},
     "output_type": "execute_result"
    }
   ],
   "source": [
    "#Added extra shortcuts and got output for a value\n",
    "table=\"\"\"\n",
    "        Table: Shortcut keys for blender\n",
    "\n",
    "| Functions                                     | Shortcut_keys      |                                                                            \n",
    "|-----------------------------------------------|--------------------|\n",
    "| Insert a keyframe.                            | I                  | \n",
    "| select all                                    | A                  | \n",
    "| Copy the (single) value of the button         |Ctrl-C              | \n",
    "| Clear the driver                              |Ctrl-Alt-D          | \n",
    "| Copy the entire vector or color of the button.|Ctrl-Alt-C          |\n",
    "\n",
    "\"\"\"\n",
    "llm(f\"\"\"\n",
    " the User asks you for information on a topic which is not related to 3d modelling shortcuts reply with the following :\\\n",
    "        \"Sorry! I am the assistant for Elgi Equipments. However, While my main expertise is to assist you \n",
    "        with queries related to Elgi, I suggest you to browse the internet for some videos \n",
    "        or websites which can help you out with that\".\\\n",
    "        answer the user in short and answer what is wanted \\\n",
    "        You respond in a short, very conversational friendly style\\\n",
    "        the information about the blender shortcuts includes:\n",
    " an automated service to collect input from the user and provide information related to input,\\\n",
    "        Learn the Table given below:\n",
    "        {table}\n",
    "    Answer to user based on the table: \n",
    "    what is the shortcut copy the (single) valueof the button?\"\"\")"
   ]
  },
  {
   "cell_type": "code",
   "execution_count": 27,
   "metadata": {},
   "outputs": [
    {
     "name": "stdout",
     "output_type": "stream",
     "text": [
      " The shortcut for copying the entire vector or color of the button is Ctrl-Alt-C."
     ]
    },
    {
     "data": {
      "text/plain": [
       "' The shortcut for copying the entire vector or color of the button is Ctrl-Alt-C.'"
      ]
     },
     "execution_count": 27,
     "metadata": {},
     "output_type": "execute_result"
    }
   ],
   "source": [
    "#Added extra shortcuts and got output for a value\n",
    "table=\"\"\"\n",
    "        Table: Shortcut keys for blender\n",
    "\n",
    "| Functions                                     | Shortcut_keys      |                                                                            \n",
    "|-----------------------------------------------|--------------------|\n",
    "| Insert a keyframe.                            | I                  | \n",
    "| select all                                    | A                  | \n",
    "| Copy the (single) value of the button         |Ctrl-C              | \n",
    "| Clear the driver                              |Ctrl-Alt-D          | \n",
    "| Copy the entire vector or color of the button |Ctrl-Alt-C          |\n",
    "| Paste the entire vector or color of the button|Ctrl-Alt-V          |\n",
    "| Change the value incremental steps            |Ctrl-Wheel          |\n",
    "| Negate number values (multiply by -1.0)       |Minus               |\n",
    "\n",
    "\"\"\"\n",
    "llm(f\"\"\"\n",
    " the User asks you for information on a topic which is not related to 3d modelling shortcuts reply with the following :\\\n",
    "        \"Sorry! I am the assistant for Elgi Equipments. However, While my main expertise is to assist you \n",
    "        with queries related to Elgi, I suggest you to browse the internet for some videos \n",
    "        or websites which can help you out with that\".\\\n",
    "        answer the user in short and answer what is wanted \\\n",
    "        You respond in a short, very conversational friendly style\\\n",
    "        the information about the blender shortcuts includes:\n",
    " an automated service to collect input from the user and provide information related to input,\\\n",
    "        Learn the Table given below:\n",
    "        {table}\n",
    "    Answer to user based on the table: \n",
    "    what is the shortcut copy the entire vector or color of the  button?\"\"\")"
   ]
  },
  {
   "cell_type": "code",
   "execution_count": 30,
   "metadata": {},
   "outputs": [
    {
     "name": "stdout",
     "output_type": "stream",
     "text": [
      " The shortcut for pasting the entire vector or color of the button is Ctrl-Alt-V."
     ]
    },
    {
     "data": {
      "text/plain": [
       "' The shortcut for pasting the entire vector or color of the button is Ctrl-Alt-V.'"
      ]
     },
     "execution_count": 30,
     "metadata": {},
     "output_type": "execute_result"
    }
   ],
   "source": [
    "#Added extra shortcuts and got output for a value\n",
    "table=\"\"\"\n",
    "        Table: Shortcut keys for blender\n",
    "\n",
    "| Functions                                     | Shortcut_keys      |                                                                            \n",
    "|-----------------------------------------------|--------------------|\n",
    "| Insert a keyframe.                            | I                  | \n",
    "| select all                                    | A                  | \n",
    "| Copy the (single) value of the button         |Ctrl-C              | \n",
    "| Clear the driver                              |Ctrl-Alt-D          | \n",
    "| Copy the entire vector or color of the button |Ctrl-Alt-C          |\n",
    "| Paste the entire vector or color of the button|Ctrl-Alt-V          |\n",
    "| Change the value incremental steps            |Ctrl-Wheel          |\n",
    "\n",
    "\n",
    "\"\"\"\n",
    "llm(f\"\"\"\n",
    " the User asks you for information on a topic which is not related to 3d modelling shortcuts reply with the following :\\\n",
    "        \"Sorry! I am the assistant for Elgi Equipments. However, While my main expertise is to assist you \n",
    "        with queries related to Elgi, I suggest you to browse the internet for some videos \n",
    "        or websites which can help you out with that\".\\\n",
    "        answer the user in short and answer what is wanted \\\n",
    "        You respond in a short, very conversational friendly style\\\n",
    "        the information about the blender shortcuts includes:\n",
    " an automated service to collect input from the user and provide information related to input,\\\n",
    "        Learn the Table given below:\n",
    "        {table}\n",
    "    Answer to user based on the table: \n",
    "    what is the shortcut Paste the entire vector or color of the button?\"\"\")"
   ]
  },
  {
   "cell_type": "code",
   "execution_count": null,
   "metadata": {},
   "outputs": [],
   "source": []
  }
 ],
 "metadata": {
  "kernelspec": {
   "display_name": "Python 3.11.7 64-bit",
   "language": "python",
   "name": "python3"
  },
  "language_info": {
   "codemirror_mode": {
    "name": "ipython",
    "version": 3
   },
   "file_extension": ".py",
   "mimetype": "text/x-python",
   "name": "python",
   "nbconvert_exporter": "python",
   "pygments_lexer": "ipython3",
   "version": "3.11.7"
  },
  "orig_nbformat": 4,
  "vscode": {
   "interpreter": {
    "hash": "ebb1fce3030b29fe830cafe852b75508e70531fc9b401eda00fee2518c8f9105"
   }
  }
 },
 "nbformat": 4,
 "nbformat_minor": 2
}
