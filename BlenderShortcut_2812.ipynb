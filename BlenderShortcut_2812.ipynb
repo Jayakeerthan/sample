{
 "cells": [
  {
   "cell_type": "code",
   "execution_count": 77,
   "metadata": {},
   "outputs": [],
   "source": [
    "from langchain.llms import Ollama\n"
   ]
  },
  {
   "cell_type": "code",
   "execution_count": 78,
   "metadata": {},
   "outputs": [],
   "source": [
    "from langchain.callbacks.manager import CallbackManager\n",
    "from langchain.callbacks.streaming_stdout import StreamingStdOutCallbackHandler                                  \n"
   ]
  },
  {
   "cell_type": "code",
   "execution_count": 187,
   "metadata": {},
   "outputs": [],
   "source": [
    "llm = Ollama(base_url='http://172.17.226.116:11434',\n",
    "model=\"orca-mini:3b\",temperature=0.8,top_k=40,top_p=0.9,repeat_penalty=1.1,repeat_last_n=64,tfs_z=1,\n",
    "callback_manager = CallbackManager([StreamingStdOutCallbackHandler()]))"
   ]
  },
  {
   "cell_type": "code",
   "execution_count": 80,
   "metadata": {},
   "outputs": [
    {
     "name": "stdout",
     "output_type": "stream",
     "text": [
      " The shortcut for copy a single value of the button is Ctrl-C."
     ]
    },
    {
     "data": {
      "text/plain": [
       "' The shortcut for copy a single value of the button is Ctrl-C.'"
      ]
     },
     "execution_count": 80,
     "metadata": {},
     "output_type": "execute_result"
    }
   ],
   "source": [
    "#Added extra shortcuts and got output for a value\n",
    "table=\"\"\"\n",
    "        Table: Shortcut keys for blender\n",
    "\n",
    "| Functions                                     | Shortcut_keys      |                                                                            \n",
    "|-----------------------------------------------|--------------------|\n",
    "| Insert a keyframe.                            | I                  | \n",
    "| select all                                    | A                  | \n",
    "| Copy the (single) value of the button         |Ctrl-C              | \n",
    "| Clear the driver                              |Ctrl-Alt-D          | \n",
    "| Copy the entire vector or color of the button |Ctrl-Alt-C          |\n",
    "| Paste the entire vector or color of the button|Ctrl-Alt-V          |\n",
    "| Change the value incremental steps            |Ctrl-Wheel          |\n",
    "\n",
    "\n",
    "\"\"\"\n",
    "llm(f\"\"\"\n",
    " the User asks you for information on a topic which is not related to 3d modelling shortcuts reply with the following :\\\n",
    "        \"Sorry! I am the assistant for Elgi Equipments. However, While my main expertise is to assist you \n",
    "        with queries related to Elgi, I suggest you to browse the internet for some videos \n",
    "        or websites which can help you out with that\".\\\n",
    "        answer the user in short and answer what is wanted \\\n",
    "        You respond in a short, very conversational friendly style\\\n",
    "        the information about the blender shortcuts includes:\n",
    " an automated service to collect input from the user and provide information related to input,\\\n",
    "        Learn the Table given below:\n",
    "        {table}\n",
    "    Answer to user based on the table: \n",
    "    what is the shortcut for copy a single value?\"\"\")"
   ]
  },
  {
   "cell_type": "code",
   "execution_count": 81,
   "metadata": {},
   "outputs": [
    {
     "name": "stdout",
     "output_type": "stream",
     "text": [
      " The shortcut for changing the value incremental steps in Blender is Ctrl-Wheel."
     ]
    },
    {
     "data": {
      "text/plain": [
       "' The shortcut for changing the value incremental steps in Blender is Ctrl-Wheel.'"
      ]
     },
     "execution_count": 81,
     "metadata": {},
     "output_type": "execute_result"
    }
   ],
   "source": [
    "#Added extra shortcuts and got output for a value\n",
    "table=\"\"\"\n",
    "        Table: Shortcut keys for blender\n",
    "\n",
    "| Functions                                     | Shortcut_keys      |                                                                            \n",
    "|-----------------------------------------------|--------------------|\n",
    "| Insert a keyframe.                            | I                  | \n",
    "| select all                                    | A                  | \n",
    "| Copy the (single) value of the button         |Ctrl-C              | \n",
    "| Clear the driver                              |Ctrl-Alt-D          | \n",
    "| Copy the entire vector or color of the button |Ctrl-Alt-C          |\n",
    "| Paste the entire vector or color of the button|Ctrl-Alt-V          |\n",
    "| Change the value incremental steps            |Ctrl-Wheel          |\n",
    "\n",
    "\n",
    "\"\"\"\n",
    "llm(f\"\"\"\n",
    " the User asks you for information on a topic which is not related to 3d modelling shortcuts reply with the following :\\\n",
    "        \"Sorry! I am the assistant for Elgi Equipments. However, While my main expertise is to assist you \n",
    "        with queries related to Elgi, I suggest you to browse the internet for some videos \n",
    "        or websites which can help you out with that\".\\\n",
    "        answer the user in short and answer what is wanted \\\n",
    "        You respond in a short, very conversational friendly style\\\n",
    "        the information about the blender shortcuts includes:\n",
    " an automated service to collect input from the user and provide information related to input,\\\n",
    "        Learn the Table given below:\n",
    "        {table}\n",
    "    Answer to user based on the table: \n",
    "    what is the shortcut Change the value incremental steps?\"\"\")"
   ]
  },
  {
   "cell_type": "code",
   "execution_count": 82,
   "metadata": {},
   "outputs": [
    {
     "name": "stdout",
     "output_type": "stream",
     "text": [
      " The shortcut \"Ctrl-Alt-D\" clears the driver in Elgi Equipments."
     ]
    },
    {
     "data": {
      "text/plain": [
       "' The shortcut \"Ctrl-Alt-D\" clears the driver in Elgi Equipments.'"
      ]
     },
     "execution_count": 82,
     "metadata": {},
     "output_type": "execute_result"
    }
   ],
   "source": [
    "#Added extra shortcuts and got output for a value\n",
    "table=\"\"\"\n",
    "        Table: Shortcut keys for blender\n",
    "\n",
    "| Functions                                     | Shortcut_keys      |                                                                            \n",
    "|-----------------------------------------------|--------------------|\n",
    "| Insert a keyframe.                            | I                  | \n",
    "| select all                                    | A                  | \n",
    "| Copy the (single) value of the button         |Ctrl-C              | \n",
    "| Clear the driver                              |Ctrl-Alt-D          | \n",
    "| Copy the entire vector or color of the button |Ctrl-Alt-C          |\n",
    "| Paste the entire vector or color of the button|Ctrl-Alt-V          |\n",
    "| Change the value incremental steps            |Ctrl-Wheel          |\n",
    "\n",
    "\n",
    "\"\"\"\n",
    "llm(f\"\"\"\n",
    " the User asks you for information on a topic which is not related to 3d modelling shortcuts reply with the following :\\\n",
    "        \"Sorry! I am the assistant for Elgi Equipments. However, While my main expertise is to assist you \n",
    "        with queries related to Elgi, I suggest you to browse the internet for some videos \n",
    "        or websites which can help you out with that\".\\\n",
    "        answer the user in short and answer what is wanted \\\n",
    "        You respond in a short, very conversational friendly style\\\n",
    "        the information about the blender shortcuts includes:\n",
    " an automated service to collect input from the user and provide information related to input,\\\n",
    "        Learn the Table given below:\n",
    "        {table}\n",
    "    Answer to user based on the table: \n",
    "    what is the shortcut clear the driver?\"\"\")"
   ]
  },
  {
   "cell_type": "code",
   "execution_count": 242,
   "metadata": {},
   "outputs": [
    {
     "name": "stdout",
     "output_type": "stream",
     "text": [
      " Sure, I can help you with that. Here are the steps to join the objects and parent the model along with their short keys:\n",
      "\n",
      "1. Select the object you want to parent or join with the model.\n",
      "2. Click on the model to select it.\n",
      "3. Right-click on the selected object and select \"Join\" or \"Parent\".\n",
      "4. Depending on the type of object you are joining or parenting, there may be additional steps involved. For example, if you're joining a group of objects, you may need to select the group first before clicking on the parent option.\n",
      "5. Once you have selected the desired option, the model will automatically update with the new parent or join point.\n",
      "\n",
      "As for the short keys, here are the shortcuts for joining and parenting objects in Blender:\n",
      "\n",
      "- To join an object with the model, use Shift+K or Ctrl+K depending on your version of Blender.\n",
      "- To parent an object, use Ctrl+J or Shit-J."
     ]
    },
    {
     "data": {
      "text/plain": [
       "' Sure, I can help you with that. Here are the steps to join the objects and parent the model along with their short keys:\\n\\n1. Select the object you want to parent or join with the model.\\n2. Click on the model to select it.\\n3. Right-click on the selected object and select \"Join\" or \"Parent\".\\n4. Depending on the type of object you are joining or parenting, there may be additional steps involved. For example, if you\\'re joining a group of objects, you may need to select the group first before clicking on the parent option.\\n5. Once you have selected the desired option, the model will automatically update with the new parent or join point.\\n\\nAs for the short keys, here are the shortcuts for joining and parenting objects in Blender:\\n\\n- To join an object with the model, use Shift+K or Ctrl+K depending on your version of Blender.\\n- To parent an object, use Ctrl+J or Shit-J.'"
      ]
     },
     "execution_count": 242,
     "metadata": {},
     "output_type": "execute_result"
    }
   ],
   "source": [
    "#Added extra shortcuts and got output for a value\n",
    "table=\"\"\"\n",
    "        Table: Shortcut keys for blender\n",
    "\n",
    "| Functions                                     | Shortcut_keys      |                                                                            \n",
    "|-----------------------------------------------|--------------------|\n",
    "| Knife cut midpoints                           | Shift-Kkey-LMB     | \n",
    "| Toggle quad view                              | Ctrl-Alt-Q         | \n",
    "| Open new Default file                         | Ctrl-N             | \n",
    "| clear rotation                                | Alt-R              | \n",
    "| Inverse select                                | Ctrl-I             |\n",
    "| Copy the entire vector                        |Ctrl-Alt-C          |\n",
    "| Paste the entire vector                       |Ctrl-Alt-V          |\n",
    "| Change the value incremental steps            |Ctrl-Wheel          |\n",
    "| Clear the driver                              |Ctrl-Alt-D          |\n",
    "| Go to the start                               |Ctrl+Home           |\n",
    "| Copy the selected text                        |Ctrl+C              |\n",
    "| Cut the selected text                         |Ctrl+X              |\n",
    "| Paste text at the cursor position             |Ctrl+V              |\n",
    "| Rotate Brush Texture                          |Ctrl-F              |\n",
    "| Loop Select                                   |Alt-RMB             |\n",
    "| Invoke X-axis                                 | X Key              |\n",
    "| Invoke Y-axis                                 | Y Key              |\n",
    "| Invoke Z-axis                                 | Z Key              |\n",
    "| To Duplicate the model                        |Shit-D              |\n",
    "| To Extrude the edges of model                 |Shit-E              |\n",
    "| Parent of the model                           |Ctrl-P              |\n",
    "| Join the objects                              |Ctrl-J              |\n",
    "| Turn on 3d widget                             |Ctrl+Spacebar       |\n",
    "\n",
    "\n",
    "\n",
    "\n",
    "\"\"\"\n",
    "llm(f\"\"\"\n",
    " the User asks you for information on a topic which is not related to 3d modelling shortcuts reply with the following :\\\n",
    "        \"Sorry! I am the assistant for Elgi Equipments. However, While my main expertise is to assist you \n",
    "        with queries related to Elgi, I suggest you to browse the internet for some videos \n",
    "        or websites which can help you out with that\".\\\n",
    "        answer the user in short and answer what is wanted \\\n",
    "        You respond in a short, very conversational friendly style\\\n",
    "        the information about the blender shortcuts includes:\n",
    " an automated service to collect input from the user and provide information related to input,\\\n",
    "        Learn the Table given below:\n",
    "        {table}\n",
    "    Answer to user based on the table: \n",
    "    I want to join the objects and parent the model. can you tell me the steps along with the short keys \"\"\")"
   ]
  },
  {
   "cell_type": "code",
   "execution_count": 185,
   "metadata": {},
   "outputs": [
    {
     "name": "stdout",
     "output_type": "stream",
     "text": [
      "I'm sorry, I don't have information on that Blender shortcut. Please refer to the table for available shortcuts.\n"
     ]
    }
   ],
   "source": [
    "def llm(response):\n",
    "    # Your llm function implementation goes here...\n",
    "\n",
    "    # Assuming response contains the user query\n",
    "    user_query = response.lower()\n",
    "\n",
    "    shortcuts = {\n",
    "        \"keyframe\": \"I\",\n",
    "        \"select all\": \"A\",\n",
    "        \"copy value\": \"Ctrl-C\",\n",
    "        \"clear driver\": \"Ctrl-Alt-D\",\n",
    "        \"copy vector or color\": \"Ctrl-Alt-C\",\n",
    "        \"paste vector or color\": \"Ctrl-Alt-V\",\n",
    "        \"incremental steps\": \"Ctrl-Wheel\",\n",
    "        \"context menu\": \"RMB\",\n",
    "        \"go to start\": \"Home\",\n",
    "        \"copy text\": \"Ctrl+C\",\n",
    "        \"cut text\": \"Ctrl+X\",\n",
    "        \"paste text\": \"Ctrl+V\",\n",
    "        \"face loop select\": \"CTRL-ALT-RMB\",\n",
    "        \"toggle edit\": \"Tab\",\n",
    "        \"brush strength\": \"Shift-F\",\n",
    "        \"rotate brush texture\": \"Ctrl-F\",\n",
    "        \"loop select\": \"Alt-RMB\",\n",
    "        \"invoke X-axis\": \"X Key\",\n",
    "        \"invoke Y-axis\": \"Y Key\",\n",
    "        \"invoke Z-axis\": \"Z Key\",\n",
    "        \"duplicate model\": \"Shit-D\",\n",
    "        \"extrude edges\": \"Shit-E\",\n",
    "        \"parent model\": \"Ctrl-P\",\n",
    "        \"join objects\": \"Ctrl-J\",\n",
    "        \"3D widget\": \"Ctrl+Spacebar\"\n",
    "    }\n",
    "\n",
    "    for key, value in shortcuts.items():\n",
    "        if key.lower() in user_query:\n",
    "            return f\"The shortcut for '{key}' is '{value}'.\"\n",
    "\n",
    "    return \"I'm sorry, I don't have information on that Blender shortcut. Please refer to the table for available shortcuts.\"\n",
    "\n",
    "# Example usage:\n",
    "user_input = \"What is the shortcut for pasting the text?\"\n",
    "response = llm(user_input)\n",
    "print(response)\n"
   ]
  },
  {
   "cell_type": "code",
   "execution_count": 85,
   "metadata": {},
   "outputs": [
    {
     "name": "stdout",
     "output_type": "stream",
     "text": [
      "I'm sorry, I don't have information on that Blender shortcut. Please refer to the table for available shortcuts.\n"
     ]
    }
   ],
   "source": [
    "def llm(response):\n",
    "    # Your llm function implementation goes here...\n",
    "\n",
    "    # Assuming response contains the user query\n",
    "    user_query = response.lower().split()[0]  # Take the first word\n",
    "\n",
    "    shortcuts = {\n",
    "        \"keyframe\": \"I\",\n",
    "        \"select all\": \"A\",\n",
    "        \"copy value\": \"Ctrl-C\",\n",
    "        \"clear driver\": \"Ctrl-Alt-D\",\n",
    "        \"copy vector or color\": \"Ctrl-Alt-C\",\n",
    "        \"paste vector or color\": \"Ctrl-Alt-V\",\n",
    "        \"incremental steps\": \"Ctrl-Wheel\",\n",
    "        \"context menu\": \"RMB\",\n",
    "        \"go to start\": \"Home\",\n",
    "        \"copy text\": \"Ctrl+C\",\n",
    "        \"cut text\": \"Ctrl+X\",\n",
    "        \"paste text\": \"Ctrl+V\",\n",
    "        \"face loop select\": \"CTRL-ALT-RMB\",\n",
    "        \"toggle edit\": \"Tab\",\n",
    "        \"brush strength\": \"Shift-F\",\n",
    "        \"rotate brush texture\": \"Ctrl-F\",\n",
    "        \"loop select\": \"Alt-RMB\",\n",
    "        \"invoke X-axis\": \"X Key\",\n",
    "        \"invoke Y-axis\": \"Y Key\",\n",
    "        \"invoke Z-axis\": \"Z Key\",\n",
    "        \"duplicate model\": \"Shit-D\",\n",
    "        \"extrude edges\": \"Shit-E\",\n",
    "        \"parent model\": \"Ctrl-P\",\n",
    "        \"join objects\": \"Ctrl-J\",\n",
    "        \"3D widget\": \"Ctrl+Spacebar\"\n",
    "    }\n",
    "\n",
    "    for key, value in shortcuts.items():\n",
    "        if key.lower() in user_query:\n",
    "            return f\"The shortcut for '{key}' is '{value}'.\"\n",
    "\n",
    "    return \"I'm sorry, I don't have information on that Blender shortcut. Please refer to the table for available shortcuts.\"\n",
    "\n",
    "# Example usage:\n",
    "user_input = \"What is the shortcut to 3d widget?\"\n",
    "response = llm(user_input)\n",
    "print(response)\n"
   ]
  },
  {
   "cell_type": "code",
   "execution_count": 86,
   "metadata": {},
   "outputs": [
    {
     "name": "stdout",
     "output_type": "stream",
     "text": [
      "I'm sorry, I don't have information on that Blender shortcut. Please refer to the table for available shortcuts.\n"
     ]
    }
   ],
   "source": [
    "def llm(response):\n",
    "    # Your llm function implementation goes here...\n",
    "\n",
    "    # Assuming response contains the user query\n",
    "    user_query = response.lower().split()[0]  # Take the first word\n",
    "\n",
    "    shortcuts = {\n",
    "        \"keyframe\": \"I\",\n",
    "        \"select all\": \"A\",\n",
    "        \"copy value\": \"Ctrl-C\",\n",
    "        \"clear driver\": \"Ctrl-Alt-D\",\n",
    "        \"copy vector or color\": \"Ctrl-Alt-C\",\n",
    "        \"paste vector or color\": \"Ctrl-Alt-V\",\n",
    "        \"incremental steps\": \"Ctrl-Wheel\",\n",
    "        \"context menu\": \"RMB\",\n",
    "        \"go to start\": \"Home\",\n",
    "        \"copy text\": \"Ctrl+C\",\n",
    "        \"cut text\": \"Ctrl+X\",\n",
    "        \"paste text\": \"Ctrl+V\",\n",
    "        \"face loop select\": \"CTRL-ALT-RMB\",\n",
    "        \"toggle edit\": \"Tab\",\n",
    "        \"brush strength\": \"Shift-F\",\n",
    "        \"rotate brush texture\": \"Ctrl-F\",\n",
    "        \"loop select\": \"Alt-RMB\",\n",
    "        \"invoke X-axis\": \"X Key\",\n",
    "        \"invoke Y-axis\": \"Y Key\",\n",
    "        \"invoke Z-axis\": \"Z Key\",\n",
    "        \"duplicate model\": \"Shit-D\",\n",
    "        \"extrude edges\": \"Shit-E\",\n",
    "        \"parent model\": \"Ctrl-P\",\n",
    "        \"join objects\": \"Ctrl-J\",\n",
    "        \"3D widget\": \"Ctrl+Spacebar\"\n",
    "    }\n",
    "\n",
    "    for key in shortcuts:\n",
    "        if key.lower() in user_query or user_query in key.lower():\n",
    "            return f\"The shortcut for '{key}' is '{shortcuts[key]}'.\"\n",
    "\n",
    "    return \"I'm sorry, I don't have information on that Blender shortcut. Please refer to the table for available shortcuts.\"\n",
    "\n",
    "# Example usage:\n",
    "user_input = \"What is the shortcut to rotate the brush texture in Blender?\"\n",
    "response = llm(user_input)\n",
    "print(response)\n"
   ]
  },
  {
   "cell_type": "code",
   "execution_count": 87,
   "metadata": {},
   "outputs": [
    {
     "data": {
      "text/plain": [
       "\"I'm sorry, I don't have information on that Blender shortcut. Please refer to the table for available shortcuts.\""
      ]
     },
     "execution_count": 87,
     "metadata": {},
     "output_type": "execute_result"
    }
   ],
   "source": [
    "shortcuts = {\n",
    "        \"keyframe\": \"I\",\n",
    "        \"select all\": \"A\",\n",
    "        \"copy value\": \"Ctrl-C\",\n",
    "        \"clear driver\": \"Ctrl-Alt-D\",\n",
    "        \"copy vector or color\": \"Ctrl-Alt-C\",\n",
    "        \"paste vector or color\": \"Ctrl-Alt-V\",\n",
    "        \"incremental steps\": \"Ctrl-Wheel\",\n",
    "        \"context menu\": \"RMB\",\n",
    "        \"go to start\": \"Home\",\n",
    "        \"copy text\": \"Ctrl+C\",\n",
    "        \"cut text\": \"Ctrl+X\",\n",
    "        \"paste text\": \"Ctrl+V\",\n",
    "        \"face loop select\": \"CTRL-ALT-RMB\",\n",
    "        \"toggle edit\": \"Tab\",\n",
    "        \"brush strength\": \"Shift-F\",\n",
    "        \"rotate brush texture\": \"Ctrl-F\",\n",
    "        \"loop select\": \"Alt-RMB\",\n",
    "        \"invoke X-axis\": \"X Key\",\n",
    "        \"invoke Y-axis\": \"Y Key\",\n",
    "        \"invoke Z-axis\": \"Z Key\",\n",
    "        \"duplicate model\": \"Shit-D\",\n",
    "        \"extrude edges\": \"Shit-E\",\n",
    "        \"parent model\": \"Ctrl-P\",\n",
    "        \"join objects\": \"Ctrl-J\",\n",
    "        \"3D widget\": \"Ctrl+Spacebar\"\n",
    "    }\n",
    "\n",
    "\n",
    "llm(\"\"\"You are a 3d model expert. examples for blender shortcuts are given\\\n",
    "\n",
    "        These are the blender shortcuts for various purposes:```{shortcuts}```\n",
    "\n",
    "        ```Now provide the shortcut key for toggle edit```\n",
    "\n",
    "                \n",
    "\"\"\"\n",
    "   )"
   ]
  },
  {
   "cell_type": "code",
   "execution_count": null,
   "metadata": {},
   "outputs": [],
   "source": []
  },
  {
   "cell_type": "code",
   "execution_count": null,
   "metadata": {},
   "outputs": [],
   "source": []
  }
 ],
 "metadata": {
  "kernelspec": {
   "display_name": "Python 3.11.7 64-bit",
   "language": "python",
   "name": "python3"
  },
  "language_info": {
   "codemirror_mode": {
    "name": "ipython",
    "version": 3
   },
   "file_extension": ".py",
   "mimetype": "text/x-python",
   "name": "python",
   "nbconvert_exporter": "python",
   "pygments_lexer": "ipython3",
   "version": "3.11.7"
  },
  "orig_nbformat": 4,
  "vscode": {
   "interpreter": {
    "hash": "ebb1fce3030b29fe830cafe852b75508e70531fc9b401eda00fee2518c8f9105"
   }
  }
 },
 "nbformat": 4,
 "nbformat_minor": 2
}
